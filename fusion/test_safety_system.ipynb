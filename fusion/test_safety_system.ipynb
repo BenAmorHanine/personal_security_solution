{
 "cells": [
  {
   "cell_type": "code",
   "execution_count": null,
   "id": "ltVo4xX2sUS4",
   "metadata": {
    "colab": {
     "base_uri": "https://localhost:8080/"
    },
    "executionInfo": {
     "elapsed": 1219,
     "status": "ok",
     "timestamp": 1753181913944,
     "user": {
      "displayName": "HANINE BEN AMOR",
      "userId": "01416654941716385377"
     },
     "user_tz": -60
    },
    "id": "ltVo4xX2sUS4",
    "outputId": "e24c74eb-c643-4ec1-e6b8-98e5f8bbd87c"
   },
   "outputs": [
    {
     "name": "stdout",
     "output_type": "stream",
     "text": [
      "Drive already mounted at /content/drive; to attempt to forcibly remount, call drive.mount(\"/content/drive\", force_remount=True).\n",
      "/content/drive/MyDrive/Solution_securite_perso/fusion\n"
     ]
    }
   ],
   "source": [
    "from google.colab import drive\n",
    "drive.mount('/content/drive')\n",
    "%cd /content/drive/MyDrive/Solution_securite_perso/fusion"
   ]
  },
  {
   "cell_type": "code",
   "execution_count": null,
   "id": "ZH-N5Aam7qof",
   "metadata": {
    "colab": {
     "base_uri": "https://localhost:8080/"
    },
    "executionInfo": {
     "elapsed": 445,
     "status": "ok",
     "timestamp": 1753174024070,
     "user": {
      "displayName": "HANINE BEN AMOR",
      "userId": "01416654941716385377"
     },
     "user_tz": -60
    },
    "id": "ZH-N5Aam7qof",
    "outputId": "b50ad88b-b111-4c62-f03d-4a06360d5d14"
   },
   "outputs": [
    {
     "name": "stdout",
     "output_type": "stream",
     "text": [
      "/content/drive/MyDrive/Solution_securite_perso/fusion\n"
     ]
    }
   ],
   "source": [
    "%cd /content/drive/MyDrive/Solution_securite_perso/fusion"
   ]
  },
  {
   "cell_type": "code",
   "execution_count": null,
   "id": "bb37ec12",
   "metadata": {
    "colab": {
     "base_uri": "https://localhost:8080/"
    },
    "executionInfo": {
     "elapsed": 21302,
     "status": "ok",
     "timestamp": 1753174045376,
     "user": {
      "displayName": "HANINE BEN AMOR",
      "userId": "01416654941716385377"
     },
     "user_tz": -60
    },
    "id": "bb37ec12",
    "outputId": "068111d2-c0ab-4d24-af03-0676b4bb0c87"
   },
   "outputs": [
    {
     "name": "stdout",
     "output_type": "stream",
     "text": [
      "Requirement already satisfied: pandas in /usr/local/lib/python3.11/dist-packages (2.2.2)\n",
      "Requirement already satisfied: scikit-learn in /usr/local/lib/python3.11/dist-packages (1.6.1)\n",
      "Requirement already satisfied: xgboost in /usr/local/lib/python3.11/dist-packages (2.1.4)\n",
      "Requirement already satisfied: joblib in /usr/local/lib/python3.11/dist-packages (1.5.1)\n",
      "Collecting pymongo\n",
      "  Downloading pymongo-4.13.2-cp311-cp311-manylinux_2_17_x86_64.manylinux2014_x86_64.whl.metadata (22 kB)\n",
      "Requirement already satisfied: numpy>=1.23.2 in /usr/local/lib/python3.11/dist-packages (from pandas) (2.0.2)\n",
      "Requirement already satisfied: python-dateutil>=2.8.2 in /usr/local/lib/python3.11/dist-packages (from pandas) (2.9.0.post0)\n",
      "Requirement already satisfied: pytz>=2020.1 in /usr/local/lib/python3.11/dist-packages (from pandas) (2025.2)\n",
      "Requirement already satisfied: tzdata>=2022.7 in /usr/local/lib/python3.11/dist-packages (from pandas) (2025.2)\n",
      "Requirement already satisfied: scipy>=1.6.0 in /usr/local/lib/python3.11/dist-packages (from scikit-learn) (1.15.3)\n",
      "Requirement already satisfied: threadpoolctl>=3.1.0 in /usr/local/lib/python3.11/dist-packages (from scikit-learn) (3.6.0)\n",
      "Requirement already satisfied: nvidia-nccl-cu12 in /usr/local/lib/python3.11/dist-packages (from xgboost) (2.21.5)\n",
      "Collecting dnspython<3.0.0,>=1.16.0 (from pymongo)\n",
      "  Downloading dnspython-2.7.0-py3-none-any.whl.metadata (5.8 kB)\n",
      "Requirement already satisfied: six>=1.5 in /usr/local/lib/python3.11/dist-packages (from python-dateutil>=2.8.2->pandas) (1.17.0)\n",
      "Downloading pymongo-4.13.2-cp311-cp311-manylinux_2_17_x86_64.manylinux2014_x86_64.whl (1.4 MB)\n",
      "\u001b[2K   \u001b[90m━━━━━━━━━━━━━━━━━━━━━━━━━━━━━━━━━━━━━━━━\u001b[0m \u001b[32m1.4/1.4 MB\u001b[0m \u001b[31m30.8 MB/s\u001b[0m eta \u001b[36m0:00:00\u001b[0m\n",
      "\u001b[?25hDownloading dnspython-2.7.0-py3-none-any.whl (313 kB)\n",
      "\u001b[2K   \u001b[90m━━━━━━━━━━━━━━━━━━━━━━━━━━━━━━━━━━━━━━━━\u001b[0m \u001b[32m313.6/313.6 kB\u001b[0m \u001b[31m22.0 MB/s\u001b[0m eta \u001b[36m0:00:00\u001b[0m\n",
      "\u001b[?25hInstalling collected packages: dnspython, pymongo\n",
      "Successfully installed dnspython-2.7.0 pymongo-4.13.2\n"
     ]
    }
   ],
   "source": [
    "%pip install pandas scikit-learn xgboost joblib pymongo"
   ]
  },
  {
   "cell_type": "code",
   "execution_count": null,
   "id": "17c1ac76",
   "metadata": {
    "colab": {
     "base_uri": "https://localhost:8080/",
     "height": 87
    },
    "executionInfo": {
     "elapsed": 10417,
     "status": "ok",
     "timestamp": 1753174055795,
     "user": {
      "displayName": "HANINE BEN AMOR",
      "userId": "01416654941716385377"
     },
     "user_tz": -60
    },
    "id": "17c1ac76",
    "outputId": "ad4e7c0c-7d8a-4767-b7d3-933fe492666b"
   },
   "outputs": [
    {
     "data": {
      "application/vnd.google.colaboratory.intrinsic+json": {
       "type": "string"
      },
      "text/plain": [
       "'# Mock model functions\\ndef capture_and_store(user_id, lat, lon, ts_collection, geo_collection, users_collection):\\n    return datetime.now()\\n\\ndef load_threshold_model(user_id):\\n    return None\\n\\ndef predict_threshold(model, features):\\n    return 0.05\\n\\ndef detect_user_anomalies(lat, lon, hour, weekday, month, user_id, ts_collection, prob_threshold):\\n    return 0.0, 0.6  # loc_anomaly, time_anomaly\\n\\ndef load_incident_model(user_id):\\n    return None, None\\n\\ndef predict_incident(model, scaler, loc_anomaly, time_anomaly):\\n    return 0.5\\n\\ndef predict_crime_risk(lat, lon):\\n    return 0.7\\n\\ndef detect_movement_anomaly(user_id, ts_collection, lat, lon, now):\\n    return 0.8\\n\\ndef predict_audio_stress(user_id):\\n    return 0.4\\n\\ndef detect_emergency_keyword(user_id):\\n    return 0.0\\n\\ndef insert_user_alert(users_collection, user_id, loc_anomaly, time_anomaly, incident_prob, trigger_alert):\\n    print(f\"Stored alert for {user_id}\")'"
      ]
     },
     "execution_count": 4,
     "metadata": {},
     "output_type": "execute_result"
    }
   ],
   "source": [
    "# Cell 1: Imports and Mock Setup\n",
    "import pandas as pd\n",
    "from datetime import datetime\n",
    "from unittest.mock import MagicMock\n",
    "\n",
    "from process_capture import process_capture\n",
    "from fusion_core import fuse_alerts, display_outputs, trigger_alert, DEFAULT_WEIGHTS\n",
    "\n",
    "# Mock database collections\n",
    "ts_collection = MagicMock()\n",
    "geo_collection = MagicMock()\n",
    "users_collection = MagicMock()\n",
    "ts_collection.find.return_value = [\n",
    "    {\"user_id\": \"user1\", \"latitude\": 36.8065, \"longitude\": 10.1815, \"timestamp\": datetime.now(), \"hour\": 12}]\n"
   ]
  },
  {
   "cell_type": "code",
   "execution_count": null,
   "id": "3mjnMgPs6JJY",
   "metadata": {
    "colab": {
     "base_uri": "https://localhost:8080/"
    },
    "executionInfo": {
     "elapsed": 437,
     "status": "ok",
     "timestamp": 1753174056235,
     "user": {
      "displayName": "HANINE BEN AMOR",
      "userId": "01416654941716385377"
     },
     "user_tz": -60
    },
    "id": "3mjnMgPs6JJY",
    "outputId": "6ee71706-7c54-4b79-eb0e-3a0cd258777d"
   },
   "outputs": [
    {
     "name": "stdout",
     "output_type": "stream",
     "text": [
      "alerts.log\t     call_models.py\t  __pycache__\n",
      "api.py\t\t     custom_interface.py  test_safety_system.ipynb\n",
      "audio_processing.py  fusion_core.py\t  vocal_analysis.py\n",
      "audio.py\t     __init__.py\t  wav2vec2_checkpoints\n",
      "audio_test.wav\t     process_capture.py\n"
     ]
    }
   ],
   "source": [
    "!ls"
   ]
  },
  {
   "cell_type": "markdown",
   "id": "fc67e6a1",
   "metadata": {
    "id": "fc67e6a1"
   },
   "source": [
    "IMPORTING THE FIRSTMODEL: HIGH RISK LOCATOR"
   ]
  },
  {
   "cell_type": "code",
   "execution_count": 1,
   "id": "jMZvMwISx9kW",
   "metadata": {
    "colab": {
     "base_uri": "https://localhost:8080/"
    },
    "executionInfo": {
     "elapsed": 32986,
     "status": "ok",
     "timestamp": 1753194727446,
     "user": {
      "displayName": "HANINE BEN AMOR",
      "userId": "01416654941716385377"
     },
     "user_tz": -60
    },
    "id": "jMZvMwISx9kW",
    "outputId": "d6740692-0711-4f35-acba-b7e051d70c69"
   },
   "outputs": [
    {
     "name": "stdout",
     "output_type": "stream",
     "text": [
      "Mounted at /content/drive\n",
      "/content/drive/MyDrive/Solution_securite_perso/fusion\n"
     ]
    },
    {
     "name": "stderr",
     "output_type": "stream",
     "text": [
      "/usr/local/lib/python3.11/dist-packages/sklearn/base.py:380: InconsistentVersionWarning: Trying to unpickle estimator DBSCAN from version 1.5.2 when using version 1.6.1. This might lead to breaking code or invalid results. Use at your own risk. For more info please refer to:\n",
      "https://scikit-learn.org/stable/model_persistence.html#security-maintainability-limitations\n",
      "  warnings.warn(\n",
      "/usr/local/lib/python3.11/dist-packages/sklearn/base.py:380: InconsistentVersionWarning: Trying to unpickle estimator OPTICS from version 1.5.2 when using version 1.6.1. This might lead to breaking code or invalid results. Use at your own risk. For more info please refer to:\n",
      "https://scikit-learn.org/stable/model_persistence.html#security-maintainability-limitations\n",
      "  warnings.warn(\n",
      "/usr/local/lib/python3.11/dist-packages/sklearn/base.py:380: InconsistentVersionWarning: Trying to unpickle estimator StandardScaler from version 1.5.2 when using version 1.6.1. This might lead to breaking code or invalid results. Use at your own risk. For more info please refer to:\n",
      "https://scikit-learn.org/stable/model_persistence.html#security-maintainability-limitations\n",
      "  warnings.warn(\n"
     ]
    },
    {
     "name": "stdout",
     "output_type": "stream",
     "text": [
      " Risk Score: 0.00, Norm. Distance: 24.03, Type: Riots\n"
     ]
    }
   ],
   "source": [
    "\"\"\"import risky_location_inference\n",
    "print(risky_location_inference.predict_risk(125,-96))\n",
    "\"\"\"\n",
    "from google.colab import drive\n",
    "drive.mount('/content/drive')\n",
    "%cd /content/drive/MyDrive/Solution_securite_perso/fusion\n",
    "\n",
    "import geocoder\n",
    "import risky_location_inference\n",
    "\n",
    "# Detect user's location\n",
    "g = geocoder.ip('me')\n",
    "if g.ok:\n",
    "    lat, lon = g.latlng\n",
    "    score, dist, event_type = risky_location_inference.predict_risk(lat, lon, method='dbscan')\n",
    "    print(f\" Risk Score: {score:.2f}, Norm. Distance: {dist:.2f}, Type: {event_type}\")\n",
    "else:\n",
    "    print(\"Failed to detect user location\")\n",
    "\n"
   ]
  },
  {
   "cell_type": "code",
   "execution_count": 2,
   "id": "LpdplWuo9MQH",
   "metadata": {
    "colab": {
     "base_uri": "https://localhost:8080/"
    },
    "executionInfo": {
     "elapsed": 2092,
     "status": "ok",
     "timestamp": 1753194741518,
     "user": {
      "displayName": "HANINE BEN AMOR",
      "userId": "01416654941716385377"
     },
     "user_tz": -60
    },
    "id": "LpdplWuo9MQH",
    "outputId": "ad2b246c-eb44-45b8-91f7-04c2e009eb02"
   },
   "outputs": [
    {
     "name": "stdout",
     "output_type": "stream",
     "text": [
      "Drive already mounted at /content/drive; to attempt to forcibly remount, call drive.mount(\"/content/drive\", force_remount=True).\n",
      "/content/drive/MyDrive/Solution_securite_perso/fusion\n",
      " Risk Score: 0.00, Norm. Distance: 29.07, Type: Riots\n"
     ]
    }
   ],
   "source": [
    "from google.colab import drive\n",
    "drive.mount('/content/drive')\n",
    "%cd /content/drive/MyDrive/Solution_securite_perso/fusion\n",
    "\n",
    "import geocoder\n",
    "import risky_location_inference\n",
    "\n",
    "score, dist, event_type = risky_location_inference.predict_risk(125, 96, method='dbscan')\n",
    "print(f\" Risk Score: {score:.2f}, Norm. Distance: {dist:.2f}, Type: {event_type}\")"
   ]
  },
  {
   "cell_type": "markdown",
   "id": "4lEFs5fWXLI8",
   "metadata": {
    "id": "4lEFs5fWXLI8"
   },
   "source": [
    "LOADING BEHAVIORAL MODELS AND FUNCTIONS"
   ]
  },
  {
   "cell_type": "code",
   "execution_count": null,
   "id": "079e2cc2",
   "metadata": {
    "colab": {
     "base_uri": "https://localhost:8080/"
    },
    "executionInfo": {
     "elapsed": 2229,
     "status": "ok",
     "timestamp": 1753174062306,
     "user": {
      "displayName": "HANINE BEN AMOR",
      "userId": "01416654941716385377"
     },
     "user_tz": -60
    },
    "id": "079e2cc2",
    "outputId": "0cb0f6bf-ada6-490d-9516-5fdf03990da8"
   },
   "outputs": [
    {
     "name": "stderr",
     "output_type": "stream",
     "text": [
      "/usr/local/lib/python3.11/dist-packages/sklearn/base.py:380: InconsistentVersionWarning: Trying to unpickle estimator DecisionTreeRegressor from version 1.7.0 when using version 1.6.1. This might lead to breaking code or invalid results. Use at your own risk. For more info please refer to:\n",
      "https://scikit-learn.org/stable/model_persistence.html#security-maintainability-limitations\n",
      "  warnings.warn(\n",
      "/usr/local/lib/python3.11/dist-packages/sklearn/base.py:380: InconsistentVersionWarning: Trying to unpickle estimator RandomForestRegressor from version 1.7.0 when using version 1.6.1. This might lead to breaking code or invalid results. Use at your own risk. For more info please refer to:\n",
      "https://scikit-learn.org/stable/model_persistence.html#security-maintainability-limitations\n",
      "  warnings.warn(\n",
      "/usr/local/lib/python3.11/dist-packages/xgboost/core.py:158: UserWarning: [08:47:39] WARNING: /workspace/src/collective/../data/../common/error_msg.h:80: If you are loading a serialized model (like pickle in Python, RDS in R) or\n",
      "configuration generated by an older version of XGBoost, please export the model by calling\n",
      "`Booster.save_model` from that version first, then load it back in current version. See:\n",
      "\n",
      "    https://xgboost.readthedocs.io/en/stable/tutorials/saving_model.html\n",
      "\n",
      "for more details about differences between saving model and serializing.\n",
      "\n",
      "  warnings.warn(smsg, UserWarning)\n",
      "/usr/local/lib/python3.11/dist-packages/sklearn/base.py:380: InconsistentVersionWarning: Trying to unpickle estimator StandardScaler from version 1.7.0 when using version 1.6.1. This might lead to breaking code or invalid results. Use at your own risk. For more info please refer to:\n",
      "https://scikit-learn.org/stable/model_persistence.html#security-maintainability-limitations\n",
      "  warnings.warn(\n"
     ]
    }
   ],
   "source": [
    "# Load models for user 1(as a prototype user)\n",
    "# 2) Dynamic‐threshold model (RandomForestRegressor)\n",
    "thr_model = joblib.load(\"../models/user1/user1_threshold_model.pkl\")\n",
    "\n",
    "# 3) Incident‐prediction model + scaler\n",
    "inc_model   = joblib.load(\"../models/user1/user1_xgboost_incident_pred.pkl\")\n",
    "inc_scaler  = joblib.load(\"../models/user1/user1_xgboost_incident_pred_scaler.pkl\")\n",
    "behavioral_model = joblib.load(\"../models/user1/user1_optics_behavioral_clust.pkl\")\n",
    "scaler_behavioral = joblib.load(\"../models/user1/user1_scaler_behavioral_clust.pkl\")\n",
    "\n",
    "\n",
    "from behavioral_alerts.core.profiling import detect_user_anomalies, load_profile, build_user_profile\n",
    "from behavioral_alerts.core.threshold_adjustment import load_threshold_model, predict_threshold\n",
    "from behavioral_alerts.core.incident_prediction import load_incident_model, predict_incident\n"
   ]
  },
  {
   "cell_type": "markdown",
   "id": "E15e3bT1W76H",
   "metadata": {
    "id": "E15e3bT1W76H"
   },
   "source": [
    "LOAADING VOCAL MODELS"
   ]
  },
  {
   "cell_type": "code",
   "execution_count": null,
   "id": "1vg4fM6L0Npc",
   "metadata": {
    "colab": {
     "base_uri": "https://localhost:8080/"
    },
    "collapsed": true,
    "executionInfo": {
     "elapsed": 16523,
     "status": "ok",
     "timestamp": 1753178496246,
     "user": {
      "displayName": "HANINE BEN AMOR",
      "userId": "01416654941716385377"
     },
     "user_tz": -60
    },
    "id": "1vg4fM6L0Npc",
    "outputId": "1856f805-e5a9-4e96-c408-6e2605c3573d"
   },
   "outputs": [
    {
     "name": "stdout",
     "output_type": "stream",
     "text": [
      "Requirement already satisfied: openai-whisper in /usr/local/lib/python3.11/dist-packages (20250625)\n",
      "Requirement already satisfied: more-itertools in /usr/local/lib/python3.11/dist-packages (from openai-whisper) (10.7.0)\n",
      "Requirement already satisfied: numba in /usr/local/lib/python3.11/dist-packages (from openai-whisper) (0.60.0)\n",
      "Requirement already satisfied: numpy in /usr/local/lib/python3.11/dist-packages (from openai-whisper) (2.0.2)\n",
      "Requirement already satisfied: tiktoken in /usr/local/lib/python3.11/dist-packages (from openai-whisper) (0.9.0)\n",
      "Requirement already satisfied: torch in /usr/local/lib/python3.11/dist-packages (from openai-whisper) (2.6.0+cu124)\n",
      "Requirement already satisfied: tqdm in /usr/local/lib/python3.11/dist-packages (from openai-whisper) (4.67.1)\n",
      "Requirement already satisfied: triton>=2 in /usr/local/lib/python3.11/dist-packages (from openai-whisper) (3.2.0)\n",
      "Requirement already satisfied: llvmlite<0.44,>=0.43.0dev0 in /usr/local/lib/python3.11/dist-packages (from numba->openai-whisper) (0.43.0)\n",
      "Requirement already satisfied: regex>=2022.1.18 in /usr/local/lib/python3.11/dist-packages (from tiktoken->openai-whisper) (2024.11.6)\n",
      "Requirement already satisfied: requests>=2.26.0 in /usr/local/lib/python3.11/dist-packages (from tiktoken->openai-whisper) (2.32.3)\n",
      "Requirement already satisfied: charset-normalizer<4,>=2 in /usr/local/lib/python3.11/dist-packages (from requests>=2.26.0->tiktoken->openai-whisper) (3.4.2)\n",
      "Requirement already satisfied: idna<4,>=2.5 in /usr/local/lib/python3.11/dist-packages (from requests>=2.26.0->tiktoken->openai-whisper) (3.10)\n",
      "Requirement already satisfied: urllib3<3,>=1.21.1 in /usr/local/lib/python3.11/dist-packages (from requests>=2.26.0->tiktoken->openai-whisper) (2.4.0)\n",
      "Requirement already satisfied: certifi>=2017.4.17 in /usr/local/lib/python3.11/dist-packages (from requests>=2.26.0->tiktoken->openai-whisper) (2025.7.14)\n",
      "Requirement already satisfied: filelock in /usr/local/lib/python3.11/dist-packages (from torch->openai-whisper) (3.18.0)\n",
      "Requirement already satisfied: typing-extensions>=4.10.0 in /usr/local/lib/python3.11/dist-packages (from torch->openai-whisper) (4.14.1)\n",
      "Requirement already satisfied: networkx in /usr/local/lib/python3.11/dist-packages (from torch->openai-whisper) (3.5)\n",
      "Requirement already satisfied: jinja2 in /usr/local/lib/python3.11/dist-packages (from torch->openai-whisper) (3.1.6)\n",
      "Requirement already satisfied: fsspec in /usr/local/lib/python3.11/dist-packages (from torch->openai-whisper) (2025.3.2)\n",
      "Requirement already satisfied: nvidia-cuda-nvrtc-cu12==12.4.127 in /usr/local/lib/python3.11/dist-packages (from torch->openai-whisper) (12.4.127)\n",
      "Requirement already satisfied: nvidia-cuda-runtime-cu12==12.4.127 in /usr/local/lib/python3.11/dist-packages (from torch->openai-whisper) (12.4.127)\n",
      "Requirement already satisfied: nvidia-cuda-cupti-cu12==12.4.127 in /usr/local/lib/python3.11/dist-packages (from torch->openai-whisper) (12.4.127)\n",
      "Requirement already satisfied: nvidia-cudnn-cu12==9.1.0.70 in /usr/local/lib/python3.11/dist-packages (from torch->openai-whisper) (9.1.0.70)\n",
      "Requirement already satisfied: nvidia-cublas-cu12==12.4.5.8 in /usr/local/lib/python3.11/dist-packages (from torch->openai-whisper) (12.4.5.8)\n",
      "Requirement already satisfied: nvidia-cufft-cu12==11.2.1.3 in /usr/local/lib/python3.11/dist-packages (from torch->openai-whisper) (11.2.1.3)\n",
      "Requirement already satisfied: nvidia-curand-cu12==10.3.5.147 in /usr/local/lib/python3.11/dist-packages (from torch->openai-whisper) (10.3.5.147)\n",
      "Requirement already satisfied: nvidia-cusolver-cu12==11.6.1.9 in /usr/local/lib/python3.11/dist-packages (from torch->openai-whisper) (11.6.1.9)\n",
      "Requirement already satisfied: nvidia-cusparse-cu12==12.3.1.170 in /usr/local/lib/python3.11/dist-packages (from torch->openai-whisper) (12.3.1.170)\n",
      "Requirement already satisfied: nvidia-cusparselt-cu12==0.6.2 in /usr/local/lib/python3.11/dist-packages (from torch->openai-whisper) (0.6.2)\n",
      "Requirement already satisfied: nvidia-nccl-cu12==2.21.5 in /usr/local/lib/python3.11/dist-packages (from torch->openai-whisper) (2.21.5)\n",
      "Requirement already satisfied: nvidia-nvtx-cu12==12.4.127 in /usr/local/lib/python3.11/dist-packages (from torch->openai-whisper) (12.4.127)\n",
      "Requirement already satisfied: nvidia-nvjitlink-cu12==12.4.127 in /usr/local/lib/python3.11/dist-packages (from torch->openai-whisper) (12.4.127)\n",
      "Requirement already satisfied: sympy==1.13.1 in /usr/local/lib/python3.11/dist-packages (from torch->openai-whisper) (1.13.1)\n",
      "Requirement already satisfied: mpmath<1.4,>=1.1.0 in /usr/local/lib/python3.11/dist-packages (from sympy==1.13.1->torch->openai-whisper) (1.3.0)\n",
      "Requirement already satisfied: MarkupSafe>=2.0 in /usr/local/lib/python3.11/dist-packages (from jinja2->torch->openai-whisper) (3.0.2)\n",
      "Requirement already satisfied: transformers in /usr/local/lib/python3.11/dist-packages (4.44.2)\n",
      "Requirement already satisfied: librosa in /usr/local/lib/python3.11/dist-packages (0.11.0)\n",
      "Requirement already satisfied: numpy in /usr/local/lib/python3.11/dist-packages (2.0.2)\n",
      "Requirement already satisfied: torch in /usr/local/lib/python3.11/dist-packages (2.6.0+cu124)\n",
      "Requirement already satisfied: filelock in /usr/local/lib/python3.11/dist-packages (from transformers) (3.18.0)\n",
      "Requirement already satisfied: huggingface-hub<1.0,>=0.23.2 in /usr/local/lib/python3.11/dist-packages (from transformers) (0.33.4)\n",
      "Requirement already satisfied: packaging>=20.0 in /usr/local/lib/python3.11/dist-packages (from transformers) (25.0)\n",
      "Requirement already satisfied: pyyaml>=5.1 in /usr/local/lib/python3.11/dist-packages (from transformers) (6.0.2)\n",
      "Requirement already satisfied: regex!=2019.12.17 in /usr/local/lib/python3.11/dist-packages (from transformers) (2024.11.6)\n",
      "Requirement already satisfied: requests in /usr/local/lib/python3.11/dist-packages (from transformers) (2.32.3)\n",
      "Requirement already satisfied: safetensors>=0.4.1 in /usr/local/lib/python3.11/dist-packages (from transformers) (0.5.3)\n",
      "Requirement already satisfied: tokenizers<0.20,>=0.19 in /usr/local/lib/python3.11/dist-packages (from transformers) (0.19.1)\n",
      "Requirement already satisfied: tqdm>=4.27 in /usr/local/lib/python3.11/dist-packages (from transformers) (4.67.1)\n",
      "Requirement already satisfied: fsspec>=2023.5.0 in /usr/local/lib/python3.11/dist-packages (from huggingface-hub<1.0,>=0.23.2->transformers) (2025.3.2)\n",
      "Requirement already satisfied: typing-extensions>=3.7.4.3 in /usr/local/lib/python3.11/dist-packages (from huggingface-hub<1.0,>=0.23.2->transformers) (4.14.1)\n",
      "Requirement already satisfied: hf-xet<2.0.0,>=1.1.2 in /usr/local/lib/python3.11/dist-packages (from huggingface-hub<1.0,>=0.23.2->transformers) (1.1.5)\n",
      "Requirement already satisfied: audioread>=2.1.9 in /usr/local/lib/python3.11/dist-packages (from librosa) (3.0.1)\n",
      "Requirement already satisfied: numba>=0.51.0 in /usr/local/lib/python3.11/dist-packages (from librosa) (0.60.0)\n",
      "Requirement already satisfied: scipy>=1.6.0 in /usr/local/lib/python3.11/dist-packages (from librosa) (1.15.3)\n",
      "Requirement already satisfied: scikit-learn>=1.1.0 in /usr/local/lib/python3.11/dist-packages (from librosa) (1.6.1)\n",
      "Requirement already satisfied: joblib>=1.0 in /usr/local/lib/python3.11/dist-packages (from librosa) (1.5.1)\n",
      "Requirement already satisfied: decorator>=4.3.0 in /usr/local/lib/python3.11/dist-packages (from librosa) (4.4.2)\n",
      "Requirement already satisfied: soundfile>=0.12.1 in /usr/local/lib/python3.11/dist-packages (from librosa) (0.13.1)\n",
      "Requirement already satisfied: pooch>=1.1 in /usr/local/lib/python3.11/dist-packages (from librosa) (1.8.2)\n",
      "Requirement already satisfied: soxr>=0.3.2 in /usr/local/lib/python3.11/dist-packages (from librosa) (0.5.0.post1)\n",
      "Requirement already satisfied: lazy_loader>=0.1 in /usr/local/lib/python3.11/dist-packages (from librosa) (0.4)\n",
      "Requirement already satisfied: msgpack>=1.0 in /usr/local/lib/python3.11/dist-packages (from librosa) (1.1.1)\n",
      "Requirement already satisfied: networkx in /usr/local/lib/python3.11/dist-packages (from torch) (3.5)\n",
      "Requirement already satisfied: jinja2 in /usr/local/lib/python3.11/dist-packages (from torch) (3.1.6)\n",
      "Requirement already satisfied: nvidia-cuda-nvrtc-cu12==12.4.127 in /usr/local/lib/python3.11/dist-packages (from torch) (12.4.127)\n",
      "Requirement already satisfied: nvidia-cuda-runtime-cu12==12.4.127 in /usr/local/lib/python3.11/dist-packages (from torch) (12.4.127)\n",
      "Requirement already satisfied: nvidia-cuda-cupti-cu12==12.4.127 in /usr/local/lib/python3.11/dist-packages (from torch) (12.4.127)\n",
      "Requirement already satisfied: nvidia-cudnn-cu12==9.1.0.70 in /usr/local/lib/python3.11/dist-packages (from torch) (9.1.0.70)\n",
      "Requirement already satisfied: nvidia-cublas-cu12==12.4.5.8 in /usr/local/lib/python3.11/dist-packages (from torch) (12.4.5.8)\n",
      "Requirement already satisfied: nvidia-cufft-cu12==11.2.1.3 in /usr/local/lib/python3.11/dist-packages (from torch) (11.2.1.3)\n",
      "Requirement already satisfied: nvidia-curand-cu12==10.3.5.147 in /usr/local/lib/python3.11/dist-packages (from torch) (10.3.5.147)\n",
      "Requirement already satisfied: nvidia-cusolver-cu12==11.6.1.9 in /usr/local/lib/python3.11/dist-packages (from torch) (11.6.1.9)\n",
      "Requirement already satisfied: nvidia-cusparse-cu12==12.3.1.170 in /usr/local/lib/python3.11/dist-packages (from torch) (12.3.1.170)\n",
      "Requirement already satisfied: nvidia-cusparselt-cu12==0.6.2 in /usr/local/lib/python3.11/dist-packages (from torch) (0.6.2)\n",
      "Requirement already satisfied: nvidia-nccl-cu12==2.21.5 in /usr/local/lib/python3.11/dist-packages (from torch) (2.21.5)\n",
      "Requirement already satisfied: nvidia-nvtx-cu12==12.4.127 in /usr/local/lib/python3.11/dist-packages (from torch) (12.4.127)\n",
      "Requirement already satisfied: nvidia-nvjitlink-cu12==12.4.127 in /usr/local/lib/python3.11/dist-packages (from torch) (12.4.127)\n",
      "Requirement already satisfied: triton==3.2.0 in /usr/local/lib/python3.11/dist-packages (from torch) (3.2.0)\n",
      "Requirement already satisfied: sympy==1.13.1 in /usr/local/lib/python3.11/dist-packages (from torch) (1.13.1)\n",
      "Requirement already satisfied: mpmath<1.4,>=1.1.0 in /usr/local/lib/python3.11/dist-packages (from sympy==1.13.1->torch) (1.3.0)\n",
      "Requirement already satisfied: llvmlite<0.44,>=0.43.0dev0 in /usr/local/lib/python3.11/dist-packages (from numba>=0.51.0->librosa) (0.43.0)\n",
      "Requirement already satisfied: platformdirs>=2.5.0 in /usr/local/lib/python3.11/dist-packages (from pooch>=1.1->librosa) (4.3.8)\n",
      "Requirement already satisfied: charset-normalizer<4,>=2 in /usr/local/lib/python3.11/dist-packages (from requests->transformers) (3.4.2)\n",
      "Requirement already satisfied: idna<4,>=2.5 in /usr/local/lib/python3.11/dist-packages (from requests->transformers) (3.10)\n",
      "Requirement already satisfied: urllib3<3,>=1.21.1 in /usr/local/lib/python3.11/dist-packages (from requests->transformers) (2.4.0)\n",
      "Requirement already satisfied: certifi>=2017.4.17 in /usr/local/lib/python3.11/dist-packages (from requests->transformers) (2025.7.14)\n",
      "Requirement already satisfied: threadpoolctl>=3.1.0 in /usr/local/lib/python3.11/dist-packages (from scikit-learn>=1.1.0->librosa) (3.6.0)\n",
      "Requirement already satisfied: cffi>=1.0 in /usr/local/lib/python3.11/dist-packages (from soundfile>=0.12.1->librosa) (1.17.1)\n",
      "Requirement already satisfied: pycparser in /usr/local/lib/python3.11/dist-packages (from cffi>=1.0->soundfile>=0.12.1->librosa) (2.22)\n",
      "Requirement already satisfied: MarkupSafe>=2.0 in /usr/local/lib/python3.11/dist-packages (from jinja2->torch) (3.0.2)\n",
      "Requirement already satisfied: SpeechBrain in /usr/local/lib/python3.11/dist-packages (1.0.3)\n",
      "Requirement already satisfied: pyannote.audio in /usr/local/lib/python3.11/dist-packages (3.3.2)\n",
      "Requirement already satisfied: soundfile in /usr/local/lib/python3.11/dist-packages (0.13.1)\n",
      "Requirement already satisfied: hyperpyyaml in /usr/local/lib/python3.11/dist-packages (from SpeechBrain) (1.2.2)\n",
      "Requirement already satisfied: joblib in /usr/local/lib/python3.11/dist-packages (from SpeechBrain) (1.5.1)\n",
      "Requirement already satisfied: numpy in /usr/local/lib/python3.11/dist-packages (from SpeechBrain) (2.0.2)\n",
      "Requirement already satisfied: packaging in /usr/local/lib/python3.11/dist-packages (from SpeechBrain) (25.0)\n",
      "Requirement already satisfied: scipy in /usr/local/lib/python3.11/dist-packages (from SpeechBrain) (1.15.3)\n",
      "Requirement already satisfied: sentencepiece in /usr/local/lib/python3.11/dist-packages (from SpeechBrain) (0.2.0)\n",
      "Requirement already satisfied: torch>=1.9 in /usr/local/lib/python3.11/dist-packages (from SpeechBrain) (2.6.0+cu124)\n",
      "Requirement already satisfied: torchaudio in /usr/local/lib/python3.11/dist-packages (from SpeechBrain) (2.6.0+cu124)\n",
      "Requirement already satisfied: tqdm in /usr/local/lib/python3.11/dist-packages (from SpeechBrain) (4.67.1)\n",
      "Requirement already satisfied: huggingface_hub in /usr/local/lib/python3.11/dist-packages (from SpeechBrain) (0.33.4)\n",
      "Requirement already satisfied: asteroid-filterbanks>=0.4 in /usr/local/lib/python3.11/dist-packages (from pyannote.audio) (0.4.0)\n",
      "Requirement already satisfied: einops>=0.6.0 in /usr/local/lib/python3.11/dist-packages (from pyannote.audio) (0.8.1)\n",
      "Requirement already satisfied: lightning>=2.0.1 in /usr/local/lib/python3.11/dist-packages (from pyannote.audio) (2.5.2)\n",
      "Requirement already satisfied: omegaconf<3.0,>=2.1 in /usr/local/lib/python3.11/dist-packages (from pyannote.audio) (2.3.0)\n",
      "Requirement already satisfied: pyannote.core>=5.0.0 in /usr/local/lib/python3.11/dist-packages (from pyannote.audio) (5.0.0)\n",
      "Requirement already satisfied: pyannote.database>=5.0.1 in /usr/local/lib/python3.11/dist-packages (from pyannote.audio) (5.1.3)\n",
      "Requirement already satisfied: pyannote.metrics>=3.2 in /usr/local/lib/python3.11/dist-packages (from pyannote.audio) (3.2.1)\n",
      "Requirement already satisfied: pyannote.pipeline>=3.0.1 in /usr/local/lib/python3.11/dist-packages (from pyannote.audio) (3.0.1)\n",
      "Requirement already satisfied: pytorch-metric-learning>=2.1.0 in /usr/local/lib/python3.11/dist-packages (from pyannote.audio) (2.8.1)\n",
      "Requirement already satisfied: rich>=12.0.0 in /usr/local/lib/python3.11/dist-packages (from pyannote.audio) (13.9.4)\n",
      "Requirement already satisfied: semver>=3.0.0 in /usr/local/lib/python3.11/dist-packages (from pyannote.audio) (3.0.4)\n",
      "Requirement already satisfied: tensorboardX>=2.6 in /usr/local/lib/python3.11/dist-packages (from pyannote.audio) (2.6.4)\n",
      "Requirement already satisfied: torch-audiomentations>=0.11.0 in /usr/local/lib/python3.11/dist-packages (from pyannote.audio) (0.12.0)\n",
      "Requirement already satisfied: torchmetrics>=0.11.0 in /usr/local/lib/python3.11/dist-packages (from pyannote.audio) (1.7.4)\n",
      "Requirement already satisfied: antlr4-python3-runtime==4.9.* in /usr/local/lib/python3.11/dist-packages (from omegaconf<3.0,>=2.1->pyannote.audio) (4.9.3)\n",
      "Requirement already satisfied: PyYAML>=5.1.0 in /usr/local/lib/python3.11/dist-packages (from omegaconf<3.0,>=2.1->pyannote.audio) (6.0.2)\n",
      "Requirement already satisfied: cffi>=1.0 in /usr/local/lib/python3.11/dist-packages (from soundfile) (1.17.1)\n",
      "Requirement already satisfied: typing-extensions in /usr/local/lib/python3.11/dist-packages (from asteroid-filterbanks>=0.4->pyannote.audio) (4.14.1)\n",
      "Requirement already satisfied: pycparser in /usr/local/lib/python3.11/dist-packages (from cffi>=1.0->soundfile) (2.22)\n",
      "Requirement already satisfied: filelock in /usr/local/lib/python3.11/dist-packages (from huggingface_hub->SpeechBrain) (3.18.0)\n",
      "Requirement already satisfied: fsspec>=2023.5.0 in /usr/local/lib/python3.11/dist-packages (from huggingface_hub->SpeechBrain) (2025.3.2)\n",
      "Requirement already satisfied: requests in /usr/local/lib/python3.11/dist-packages (from huggingface_hub->SpeechBrain) (2.32.3)\n",
      "Requirement already satisfied: hf-xet<2.0.0,>=1.1.2 in /usr/local/lib/python3.11/dist-packages (from huggingface_hub->SpeechBrain) (1.1.5)\n",
      "Requirement already satisfied: lightning-utilities<2.0,>=0.10.0 in /usr/local/lib/python3.11/dist-packages (from lightning>=2.0.1->pyannote.audio) (0.14.3)\n",
      "Requirement already satisfied: pytorch-lightning in /usr/local/lib/python3.11/dist-packages (from lightning>=2.0.1->pyannote.audio) (2.5.2)\n",
      "Requirement already satisfied: aiohttp!=4.0.0a0,!=4.0.0a1 in /usr/local/lib/python3.11/dist-packages (from fsspec[http]<2027.0,>=2022.5.0->lightning>=2.0.1->pyannote.audio) (3.11.15)\n",
      "Requirement already satisfied: setuptools in /usr/local/lib/python3.11/dist-packages (from lightning-utilities<2.0,>=0.10.0->lightning>=2.0.1->pyannote.audio) (75.2.0)\n",
      "Requirement already satisfied: networkx in /usr/local/lib/python3.11/dist-packages (from torch>=1.9->SpeechBrain) (3.5)\n",
      "Requirement already satisfied: jinja2 in /usr/local/lib/python3.11/dist-packages (from torch>=1.9->SpeechBrain) (3.1.6)\n",
      "Requirement already satisfied: nvidia-cuda-nvrtc-cu12==12.4.127 in /usr/local/lib/python3.11/dist-packages (from torch>=1.9->SpeechBrain) (12.4.127)\n",
      "Requirement already satisfied: nvidia-cuda-runtime-cu12==12.4.127 in /usr/local/lib/python3.11/dist-packages (from torch>=1.9->SpeechBrain) (12.4.127)\n",
      "Requirement already satisfied: nvidia-cuda-cupti-cu12==12.4.127 in /usr/local/lib/python3.11/dist-packages (from torch>=1.9->SpeechBrain) (12.4.127)\n",
      "Requirement already satisfied: nvidia-cudnn-cu12==9.1.0.70 in /usr/local/lib/python3.11/dist-packages (from torch>=1.9->SpeechBrain) (9.1.0.70)\n",
      "Requirement already satisfied: nvidia-cublas-cu12==12.4.5.8 in /usr/local/lib/python3.11/dist-packages (from torch>=1.9->SpeechBrain) (12.4.5.8)\n",
      "Requirement already satisfied: nvidia-cufft-cu12==11.2.1.3 in /usr/local/lib/python3.11/dist-packages (from torch>=1.9->SpeechBrain) (11.2.1.3)\n",
      "Requirement already satisfied: nvidia-curand-cu12==10.3.5.147 in /usr/local/lib/python3.11/dist-packages (from torch>=1.9->SpeechBrain) (10.3.5.147)\n",
      "Requirement already satisfied: nvidia-cusolver-cu12==11.6.1.9 in /usr/local/lib/python3.11/dist-packages (from torch>=1.9->SpeechBrain) (11.6.1.9)\n",
      "Requirement already satisfied: nvidia-cusparse-cu12==12.3.1.170 in /usr/local/lib/python3.11/dist-packages (from torch>=1.9->SpeechBrain) (12.3.1.170)\n",
      "Requirement already satisfied: nvidia-cusparselt-cu12==0.6.2 in /usr/local/lib/python3.11/dist-packages (from torch>=1.9->SpeechBrain) (0.6.2)\n",
      "Requirement already satisfied: nvidia-nccl-cu12==2.21.5 in /usr/local/lib/python3.11/dist-packages (from torch>=1.9->SpeechBrain) (2.21.5)\n",
      "Requirement already satisfied: nvidia-nvtx-cu12==12.4.127 in /usr/local/lib/python3.11/dist-packages (from torch>=1.9->SpeechBrain) (12.4.127)\n",
      "Requirement already satisfied: nvidia-nvjitlink-cu12==12.4.127 in /usr/local/lib/python3.11/dist-packages (from torch>=1.9->SpeechBrain) (12.4.127)\n",
      "Requirement already satisfied: triton==3.2.0 in /usr/local/lib/python3.11/dist-packages (from torch>=1.9->SpeechBrain) (3.2.0)\n",
      "Requirement already satisfied: sympy==1.13.1 in /usr/local/lib/python3.11/dist-packages (from torch>=1.9->SpeechBrain) (1.13.1)\n",
      "Requirement already satisfied: mpmath<1.4,>=1.1.0 in /usr/local/lib/python3.11/dist-packages (from sympy==1.13.1->torch>=1.9->SpeechBrain) (1.3.0)\n",
      "Requirement already satisfied: aiohappyeyeballs>=2.3.0 in /usr/local/lib/python3.11/dist-packages (from aiohttp!=4.0.0a0,!=4.0.0a1->fsspec[http]<2027.0,>=2022.5.0->lightning>=2.0.1->pyannote.audio) (2.6.1)\n",
      "Requirement already satisfied: aiosignal>=1.1.2 in /usr/local/lib/python3.11/dist-packages (from aiohttp!=4.0.0a0,!=4.0.0a1->fsspec[http]<2027.0,>=2022.5.0->lightning>=2.0.1->pyannote.audio) (1.4.0)\n",
      "Requirement already satisfied: attrs>=17.3.0 in /usr/local/lib/python3.11/dist-packages (from aiohttp!=4.0.0a0,!=4.0.0a1->fsspec[http]<2027.0,>=2022.5.0->lightning>=2.0.1->pyannote.audio) (25.3.0)\n",
      "Requirement already satisfied: frozenlist>=1.1.1 in /usr/local/lib/python3.11/dist-packages (from aiohttp!=4.0.0a0,!=4.0.0a1->fsspec[http]<2027.0,>=2022.5.0->lightning>=2.0.1->pyannote.audio) (1.7.0)\n",
      "Requirement already satisfied: multidict<7.0,>=4.5 in /usr/local/lib/python3.11/dist-packages (from aiohttp!=4.0.0a0,!=4.0.0a1->fsspec[http]<2027.0,>=2022.5.0->lightning>=2.0.1->pyannote.audio) (6.6.3)\n",
      "Requirement already satisfied: propcache>=0.2.0 in /usr/local/lib/python3.11/dist-packages (from aiohttp!=4.0.0a0,!=4.0.0a1->fsspec[http]<2027.0,>=2022.5.0->lightning>=2.0.1->pyannote.audio) (0.3.2)\n",
      "Requirement already satisfied: yarl<2.0,>=1.17.0 in /usr/local/lib/python3.11/dist-packages (from aiohttp!=4.0.0a0,!=4.0.0a1->fsspec[http]<2027.0,>=2022.5.0->lightning>=2.0.1->pyannote.audio) (1.20.1)\n",
      "Requirement already satisfied: idna>=2.0 in /usr/local/lib/python3.11/dist-packages (from yarl<2.0,>=1.17.0->aiohttp!=4.0.0a0,!=4.0.0a1->fsspec[http]<2027.0,>=2022.5.0->lightning>=2.0.1->pyannote.audio) (3.10)\n",
      "Requirement already satisfied: sortedcontainers>=2.0.4 in /usr/local/lib/python3.11/dist-packages (from pyannote.core>=5.0.0->pyannote.audio) (2.4.0)\n",
      "Requirement already satisfied: pandas>=0.19 in /usr/local/lib/python3.11/dist-packages (from pyannote.database>=5.0.1->pyannote.audio) (2.2.2)\n",
      "Requirement already satisfied: typer>=0.12.1 in /usr/local/lib/python3.11/dist-packages (from pyannote.database>=5.0.1->pyannote.audio) (0.16.0)\n",
      "Requirement already satisfied: python-dateutil>=2.8.2 in /usr/local/lib/python3.11/dist-packages (from pandas>=0.19->pyannote.database>=5.0.1->pyannote.audio) (2.9.0.post0)\n",
      "Requirement already satisfied: pytz>=2020.1 in /usr/local/lib/python3.11/dist-packages (from pandas>=0.19->pyannote.database>=5.0.1->pyannote.audio) (2025.2)\n",
      "Requirement already satisfied: tzdata>=2022.7 in /usr/local/lib/python3.11/dist-packages (from pandas>=0.19->pyannote.database>=5.0.1->pyannote.audio) (2025.2)\n",
      "Requirement already satisfied: scikit-learn>=0.17.1 in /usr/local/lib/python3.11/dist-packages (from pyannote.metrics>=3.2->pyannote.audio) (1.6.1)\n",
      "Requirement already satisfied: docopt>=0.6.2 in /usr/local/lib/python3.11/dist-packages (from pyannote.metrics>=3.2->pyannote.audio) (0.6.2)\n",
      "Requirement already satisfied: tabulate>=0.7.7 in /usr/local/lib/python3.11/dist-packages (from pyannote.metrics>=3.2->pyannote.audio) (0.9.0)\n",
      "Requirement already satisfied: matplotlib>=2.0.0 in /usr/local/lib/python3.11/dist-packages (from pyannote.metrics>=3.2->pyannote.audio) (3.10.0)\n",
      "Requirement already satisfied: contourpy>=1.0.1 in /usr/local/lib/python3.11/dist-packages (from matplotlib>=2.0.0->pyannote.metrics>=3.2->pyannote.audio) (1.3.2)\n",
      "Requirement already satisfied: cycler>=0.10 in /usr/local/lib/python3.11/dist-packages (from matplotlib>=2.0.0->pyannote.metrics>=3.2->pyannote.audio) (0.12.1)\n",
      "Requirement already satisfied: fonttools>=4.22.0 in /usr/local/lib/python3.11/dist-packages (from matplotlib>=2.0.0->pyannote.metrics>=3.2->pyannote.audio) (4.59.0)\n",
      "Requirement already satisfied: kiwisolver>=1.3.1 in /usr/local/lib/python3.11/dist-packages (from matplotlib>=2.0.0->pyannote.metrics>=3.2->pyannote.audio) (1.4.8)\n",
      "Requirement already satisfied: pillow>=8 in /usr/local/lib/python3.11/dist-packages (from matplotlib>=2.0.0->pyannote.metrics>=3.2->pyannote.audio) (11.2.1)\n",
      "Requirement already satisfied: pyparsing>=2.3.1 in /usr/local/lib/python3.11/dist-packages (from matplotlib>=2.0.0->pyannote.metrics>=3.2->pyannote.audio) (3.2.3)\n",
      "Requirement already satisfied: optuna>=3.1 in /usr/local/lib/python3.11/dist-packages (from pyannote.pipeline>=3.0.1->pyannote.audio) (4.4.0)\n",
      "Requirement already satisfied: alembic>=1.5.0 in /usr/local/lib/python3.11/dist-packages (from optuna>=3.1->pyannote.pipeline>=3.0.1->pyannote.audio) (1.16.4)\n",
      "Requirement already satisfied: colorlog in /usr/local/lib/python3.11/dist-packages (from optuna>=3.1->pyannote.pipeline>=3.0.1->pyannote.audio) (6.9.0)\n",
      "Requirement already satisfied: sqlalchemy>=1.4.2 in /usr/local/lib/python3.11/dist-packages (from optuna>=3.1->pyannote.pipeline>=3.0.1->pyannote.audio) (2.0.41)\n",
      "Requirement already satisfied: Mako in /usr/lib/python3/dist-packages (from alembic>=1.5.0->optuna>=3.1->pyannote.pipeline>=3.0.1->pyannote.audio) (1.1.3)\n",
      "Requirement already satisfied: six>=1.5 in /usr/local/lib/python3.11/dist-packages (from python-dateutil>=2.8.2->pandas>=0.19->pyannote.database>=5.0.1->pyannote.audio) (1.17.0)\n",
      "Requirement already satisfied: markdown-it-py>=2.2.0 in /usr/local/lib/python3.11/dist-packages (from rich>=12.0.0->pyannote.audio) (3.0.0)\n",
      "Requirement already satisfied: pygments<3.0.0,>=2.13.0 in /usr/local/lib/python3.11/dist-packages (from rich>=12.0.0->pyannote.audio) (2.19.2)\n",
      "Requirement already satisfied: mdurl~=0.1 in /usr/local/lib/python3.11/dist-packages (from markdown-it-py>=2.2.0->rich>=12.0.0->pyannote.audio) (0.1.2)\n",
      "Requirement already satisfied: threadpoolctl>=3.1.0 in /usr/local/lib/python3.11/dist-packages (from scikit-learn>=0.17.1->pyannote.metrics>=3.2->pyannote.audio) (3.6.0)\n",
      "Requirement already satisfied: greenlet>=1 in /usr/local/lib/python3.11/dist-packages (from sqlalchemy>=1.4.2->optuna>=3.1->pyannote.pipeline>=3.0.1->pyannote.audio) (3.2.3)\n",
      "Requirement already satisfied: protobuf>=3.20 in /usr/local/lib/python3.11/dist-packages (from tensorboardX>=2.6->pyannote.audio) (5.29.5)\n",
      "Requirement already satisfied: julius<0.3,>=0.2.3 in /usr/local/lib/python3.11/dist-packages (from torch-audiomentations>=0.11.0->pyannote.audio) (0.2.7)\n",
      "Requirement already satisfied: torch-pitch-shift>=1.2.2 in /usr/local/lib/python3.11/dist-packages (from torch-audiomentations>=0.11.0->pyannote.audio) (1.2.5)\n",
      "Requirement already satisfied: primePy>=1.3 in /usr/local/lib/python3.11/dist-packages (from torch-pitch-shift>=1.2.2->torch-audiomentations>=0.11.0->pyannote.audio) (1.3)\n",
      "Requirement already satisfied: click>=8.0.0 in /usr/local/lib/python3.11/dist-packages (from typer>=0.12.1->pyannote.database>=5.0.1->pyannote.audio) (8.2.1)\n",
      "Requirement already satisfied: shellingham>=1.3.0 in /usr/local/lib/python3.11/dist-packages (from typer>=0.12.1->pyannote.database>=5.0.1->pyannote.audio) (1.5.4)\n",
      "Requirement already satisfied: ruamel.yaml>=0.17.28 in /usr/local/lib/python3.11/dist-packages (from hyperpyyaml->SpeechBrain) (0.18.14)\n",
      "Requirement already satisfied: ruamel.yaml.clib>=0.2.7 in /usr/local/lib/python3.11/dist-packages (from ruamel.yaml>=0.17.28->hyperpyyaml->SpeechBrain) (0.2.12)\n",
      "Requirement already satisfied: MarkupSafe>=2.0 in /usr/local/lib/python3.11/dist-packages (from jinja2->torch>=1.9->SpeechBrain) (3.0.2)\n",
      "Requirement already satisfied: charset-normalizer<4,>=2 in /usr/local/lib/python3.11/dist-packages (from requests->huggingface_hub->SpeechBrain) (3.4.2)\n",
      "Requirement already satisfied: urllib3<3,>=1.21.1 in /usr/local/lib/python3.11/dist-packages (from requests->huggingface_hub->SpeechBrain) (2.4.0)\n",
      "Requirement already satisfied: certifi>=2017.4.17 in /usr/local/lib/python3.11/dist-packages (from requests->huggingface_hub->SpeechBrain) (2025.7.14)\n"
     ]
    }
   ],
   "source": [
    "!pip install openai-whisper\n",
    "!pip install transformers librosa numpy torch\n",
    "!pip install SpeechBrain pyannote.audio soundfile"
   ]
  },
  {
   "cell_type": "code",
   "execution_count": null,
   "id": "-Td8_0hew32y",
   "metadata": {
    "colab": {
     "base_uri": "https://localhost:8080/",
     "height": 1000
    },
    "collapsed": true,
    "executionInfo": {
     "elapsed": 75951,
     "status": "error",
     "timestamp": 1753180774302,
     "user": {
      "displayName": "HANINE BEN AMOR",
      "userId": "01416654941716385377"
     },
     "user_tz": -60
    },
    "id": "-Td8_0hew32y",
    "outputId": "a8a73cd2-816c-453d-d762-a40ad6ff6894"
   },
   "outputs": [
    {
     "name": "stdout",
     "output_type": "stream",
     "text": [
      "Drive already mounted at /content/drive; to attempt to forcibly remount, call drive.mount(\"/content/drive\", force_remount=True).\n",
      "/content/drive/MyDrive/Solution_securite_perso/fusion\n"
     ]
    },
    {
     "name": "stderr",
     "output_type": "stream",
     "text": [
      "No CUDA runtime is found, using CUDA_HOME='/usr/local/cuda'\n",
      "DEBUG:speechbrain.utils.checkpoints:Registered checkpoint save hook for _speechbrain_save\n",
      "DEBUG:speechbrain.utils.checkpoints:Registered checkpoint load hook for _speechbrain_load\n",
      "DEBUG:speechbrain.utils.checkpoints:Registered checkpoint save hook for save\n",
      "DEBUG:speechbrain.utils.checkpoints:Registered checkpoint load hook for load\n",
      "DEBUG:speechbrain.utils.checkpoints:Registered checkpoint save hook for _save\n",
      "DEBUG:speechbrain.utils.checkpoints:Registered checkpoint load hook for _recover\n",
      "INFO:pytorch_lightning.utilities.migration.utils:Lightning automatically upgraded your loaded checkpoint from v1.5.4 to v2.5.2. To apply the upgrade to your files permanently, run `python -m pytorch_lightning.utilities.upgrade_checkpoint ../../../../../root/.cache/torch/pyannote/models--pyannote--segmentation/snapshots/c4c8ceafcbb3a7a280c2d357aee9fbc9b0be7f9b/pytorch_model.bin`\n",
      "INFO:speechbrain.utils.fetching:Fetch hyperparams.yaml: Using symlink found at '/root/.cache/torch/pyannote/speechbrain/hyperparams.yaml'\n",
      "INFO:speechbrain.utils.fetching:Fetch custom.py: Fetching from HuggingFace Hub 'speechbrain/spkrec-ecapa-voxceleb' if not cached\n",
      "DEBUG:speechbrain.utils.checkpoints:Registered checkpoint save hook for _save\n",
      "DEBUG:speechbrain.utils.checkpoints:Registered checkpoint load hook for _load\n",
      "DEBUG:speechbrain.utils.checkpoints:Registered parameter transfer hook for _load\n"
     ]
    },
    {
     "name": "stdout",
     "output_type": "stream",
     "text": [
      "Model was trained with pyannote.audio 0.0.1, yours is 3.3.2. Bad things might happen unless you revert pyannote.audio to 0.x.\n",
      "Model was trained with torch 1.10.0+cu102, yours is 2.6.0+cu124. Bad things might happen unless you revert torch to 1.x.\n"
     ]
    },
    {
     "name": "stderr",
     "output_type": "stream",
     "text": [
      "/usr/local/lib/python3.11/dist-packages/speechbrain/utils/autocast.py:188: FutureWarning: `torch.cuda.amp.custom_fwd(args...)` is deprecated. Please use `torch.amp.custom_fwd(args..., device_type='cuda')` instead.\n",
      "  wrapped_fwd = torch.cuda.amp.custom_fwd(fwd, cast_inputs=cast_inputs)\n",
      "DEBUG:speechbrain.utils.checkpoints:Registered checkpoint save hook for save\n",
      "DEBUG:speechbrain.utils.checkpoints:Registered checkpoint load hook for load_if_possible\n",
      "DEBUG:speechbrain.utils.parameter_transfer:Collecting files (or symlinks) for pretraining in /root/.cache/torch/pyannote/speechbrain.\n",
      "INFO:speechbrain.utils.fetching:Fetch embedding_model.ckpt: Using symlink found at '/root/.cache/torch/pyannote/speechbrain/embedding_model.ckpt'\n",
      "DEBUG:speechbrain.utils.parameter_transfer:Set local path in self.paths[\"embedding_model\"] = /root/.cache/torch/pyannote/speechbrain/embedding_model.ckpt\n",
      "INFO:speechbrain.utils.fetching:Fetch mean_var_norm_emb.ckpt: Using symlink found at '/root/.cache/torch/pyannote/speechbrain/mean_var_norm_emb.ckpt'\n",
      "DEBUG:speechbrain.utils.parameter_transfer:Set local path in self.paths[\"mean_var_norm_emb\"] = /root/.cache/torch/pyannote/speechbrain/mean_var_norm_emb.ckpt\n",
      "INFO:speechbrain.utils.fetching:Fetch classifier.ckpt: Using symlink found at '/root/.cache/torch/pyannote/speechbrain/classifier.ckpt'\n",
      "DEBUG:speechbrain.utils.parameter_transfer:Set local path in self.paths[\"classifier\"] = /root/.cache/torch/pyannote/speechbrain/classifier.ckpt\n",
      "INFO:speechbrain.utils.fetching:Fetch label_encoder.txt: Using symlink found at '/root/.cache/torch/pyannote/speechbrain/label_encoder.ckpt'\n",
      "DEBUG:speechbrain.utils.parameter_transfer:Set local path in self.paths[\"label_encoder\"] = /root/.cache/torch/pyannote/speechbrain/label_encoder.ckpt\n",
      "INFO:speechbrain.utils.parameter_transfer:Loading pretrained files for: embedding_model, mean_var_norm_emb, classifier, label_encoder\n",
      "DEBUG:speechbrain.utils.parameter_transfer:Redirecting (loading from local path): embedding_model -> /root/.cache/torch/pyannote/speechbrain/embedding_model.ckpt\n",
      "DEBUG:speechbrain.utils.parameter_transfer:Redirecting (loading from local path): mean_var_norm_emb -> /root/.cache/torch/pyannote/speechbrain/mean_var_norm_emb.ckpt\n",
      "DEBUG:speechbrain.utils.parameter_transfer:Redirecting (loading from local path): classifier -> /root/.cache/torch/pyannote/speechbrain/classifier.ckpt\n",
      "DEBUG:speechbrain.utils.parameter_transfer:Redirecting (loading from local path): label_encoder -> /root/.cache/torch/pyannote/speechbrain/label_encoder.ckpt\n",
      "DEBUG:speechbrain.dataio.encoder:Loaded categorical encoding from /root/.cache/torch/pyannote/speechbrain/label_encoder.ckpt\n",
      "INFO:speechbrain.utils.fetching:Fetch hyperparams.yaml: Fetching from HuggingFace Hub 'speechbrain/emotion-recognition-wav2vec2-IEMOCAP' if not cached\n",
      "INFO:speechbrain.utils.fetching:Fetch custom_interface.py: Fetching from HuggingFace Hub 'speechbrain/emotion-recognition-wav2vec2-IEMOCAP' if not cached\n",
      "/usr/local/lib/python3.11/dist-packages/huggingface_hub/utils/_auth.py:94: UserWarning: \n",
      "The secret `HF_TOKEN` does not exist in your Colab secrets.\n",
      "To authenticate with the Hugging Face Hub, create a token in your settings tab (https://huggingface.co/settings/tokens), set it as secret in your Google Colab and restart your session.\n",
      "You will be able to reuse this secret in all of your notebooks.\n",
      "Please note that authentication is recommended but still optional to access public models or datasets.\n",
      "  warnings.warn(\n",
      "/usr/local/lib/python3.11/dist-packages/transformers/configuration_utils.py:364: UserWarning: Passing `gradient_checkpointing` to a config initialization is deprecated and will be removed in v5 Transformers. Using `model.gradient_checkpointing_enable()` instead, or if you are using the `Trainer` API, pass `gradient_checkpointing=True` in your `TrainingArguments`.\n",
      "  warnings.warn(\n",
      "Some weights of Wav2Vec2Model were not initialized from the model checkpoint at facebook/wav2vec2-base and are newly initialized: ['wav2vec2.encoder.pos_conv_embed.conv.parametrizations.weight.original0', 'wav2vec2.encoder.pos_conv_embed.conv.parametrizations.weight.original1']\n",
      "You should probably TRAIN this model on a down-stream task to be able to use it for predictions and inference.\n",
      "WARNING:speechbrain.lobes.models.huggingface_transformers.huggingface:speechbrain.lobes.models.huggingface_transformers.huggingface - Wav2Vec2Model is frozen.\n",
      "DEBUG:speechbrain.utils.parameter_transfer:Fetching files for pretraining (no collection directory set)\n",
      "INFO:speechbrain.utils.fetching:Fetch wav2vec2.ckpt: Fetching from HuggingFace Hub 'speechbrain/emotion-recognition-wav2vec2-IEMOCAP' if not cached\n",
      "DEBUG:speechbrain.utils.parameter_transfer:Set local path in self.paths[\"wav2vec2\"] = /root/.cache/huggingface/hub/models--speechbrain--emotion-recognition-wav2vec2-IEMOCAP/snapshots/117a9c3dff08be81a3628eecf6a66b547ec1659b/wav2vec2.ckpt\n",
      "INFO:speechbrain.utils.fetching:Fetch model.ckpt: Fetching from HuggingFace Hub 'speechbrain/emotion-recognition-wav2vec2-IEMOCAP' if not cached\n",
      "DEBUG:speechbrain.utils.parameter_transfer:Set local path in self.paths[\"model\"] = /root/.cache/huggingface/hub/models--speechbrain--emotion-recognition-wav2vec2-IEMOCAP/snapshots/117a9c3dff08be81a3628eecf6a66b547ec1659b/model.ckpt\n",
      "INFO:speechbrain.utils.fetching:Fetch label_encoder.txt: Fetching from HuggingFace Hub 'speechbrain/emotion-recognition-wav2vec2-IEMOCAP' if not cached\n",
      "DEBUG:speechbrain.utils.parameter_transfer:Set local path in self.paths[\"label_encoder\"] = /root/.cache/huggingface/hub/models--speechbrain--emotion-recognition-wav2vec2-IEMOCAP/snapshots/117a9c3dff08be81a3628eecf6a66b547ec1659b/label_encoder.txt\n",
      "INFO:speechbrain.utils.parameter_transfer:Loading pretrained files for: wav2vec2, model, label_encoder\n",
      "DEBUG:speechbrain.utils.parameter_transfer:Redirecting (loading from local path): wav2vec2 -> /root/.cache/huggingface/hub/models--speechbrain--emotion-recognition-wav2vec2-IEMOCAP/snapshots/117a9c3dff08be81a3628eecf6a66b547ec1659b/wav2vec2.ckpt\n",
      "DEBUG:speechbrain.utils.parameter_transfer:Redirecting (loading from local path): model -> /root/.cache/huggingface/hub/models--speechbrain--emotion-recognition-wav2vec2-IEMOCAP/snapshots/117a9c3dff08be81a3628eecf6a66b547ec1659b/model.ckpt\n",
      "DEBUG:speechbrain.utils.parameter_transfer:Redirecting (loading from local path): label_encoder -> /root/.cache/huggingface/hub/models--speechbrain--emotion-recognition-wav2vec2-IEMOCAP/snapshots/117a9c3dff08be81a3628eecf6a66b547ec1659b/label_encoder.txt\n",
      "DEBUG:speechbrain.dataio.encoder:Loaded categorical encoding from /root/.cache/huggingface/hub/models--speechbrain--emotion-recognition-wav2vec2-IEMOCAP/snapshots/117a9c3dff08be81a3628eecf6a66b547ec1659b/label_encoder.txt\n",
      "/usr/local/lib/python3.11/dist-packages/whisper/transcribe.py:132: UserWarning: FP16 is not supported on CPU; using FP32 instead\n",
      "  warnings.warn(\"FP16 is not supported on CPU; using FP32 instead\")\n"
     ]
    },
    {
     "name": "stdout",
     "output_type": "stream",
     "text": [
      "Transcription:  cities\n",
      "Stress detection failed: Failed to open the input \"/content/drive/MyDrive/Solution_securite_perso/fusion/[ 6.3664629e-12  1.3642421e-12  4.5474735e-13 ... -2.1141185e-04\n",
      " -2.6080024e-04  0.0000000e+00]\" (No such file or directory).\n",
      "Exception raised from get_input_format_context at /__w/audio/audio/pytorch/audio/src/libtorio/ffmpeg/stream_reader/stream_reader.cpp:42 (most recent call first):\n",
      "frame #0: c10::Error::Error(c10::SourceLocation, std::string) + 0x96 (0x7cda3616c1b6 in /usr/local/lib/python3.11/dist-packages/torch/lib/libc10.so)\n",
      "frame #1: c10::detail::torchCheckFail(char const*, char const*, unsigned int, std::string const&) + 0x64 (0x7cda36115a76 in /usr/local/lib/python3.11/dist-packages/torch/lib/libc10.so)\n",
      "frame #2: <unknown function> + 0x42034 (0x7cd8f3dcf034 in /usr/local/lib/python3.11/dist-packages/torio/lib/libtorio_ffmpeg4.so)\n",
      "frame #3: torio::io::StreamingMediaDecoder::StreamingMediaDecoder(std::string const&, std::optional<std::string> const&, std::optional<std::map<std::string, std::string, std::less<std::string>, std::allocator<std::pair<std::string const, std::string> > > > const&) + 0x14 (0x7cd8f3dd1a34 in /usr/local/lib/python3.11/dist-packages/torio/lib/libtorio_ffmpeg4.so)\n",
      "frame #4: <unknown function> + 0x3bfee (0x7cd8dd99afee in /usr/local/lib/python3.11/dist-packages/torio/lib/_torio_ffmpeg4.so)\n",
      "frame #5: <unknown function> + 0x330c7 (0x7cd8dd9920c7 in /usr/local/lib/python3.11/dist-packages/torio/lib/_torio_ffmpeg4.so)\n",
      "frame #6: /usr/bin/python3() [0x55577b]\n",
      "frame #7: _PyObject_MakeTpCall + 0x27c (0x52f85c in /usr/bin/python3)\n",
      "frame #8: /usr/bin/python3() [0x5855cd]\n",
      "frame #9: /usr/bin/python3() [0x56e459]\n",
      "frame #10: /usr/bin/python3() [0x52fc40]\n",
      "frame #11: <unknown function> + 0xfc6b (0x7cd8f4383c6b in /usr/local/lib/python3.11/dist-packages/torchaudio/lib/_torchaudio.so)\n",
      "frame #12: _PyObject_MakeTpCall + 0x27c (0x52f85c in /usr/bin/python3)\n",
      "frame #13: _PyEval_EvalFrameDefault + 0x6bc (0x53da0c in /usr/bin/python3)\n",
      "frame #14: _PyFunction_Vectorcall + 0x173 (0x5663a3 in /usr/bin/python3)\n",
      "frame #15: /usr/bin/python3() [0x56e0e6]\n",
      "frame #16: _PyObject_MakeTpCall + 0x23b (0x52f81b in /usr/bin/python3)\n",
      "frame #17: _PyEval_EvalFrameDefault + 0x6bc (0x53da0c in /usr/bin/python3)\n",
      "frame #18: /usr/bin/python3() [0x613cd4]\n",
      "frame #19: PyEval_EvalCode + 0x97 (0x613337 in /usr/bin/python3)\n",
      "frame #20: /usr/bin/python3() [0x62d0d3]\n",
      "frame #21: _PyEval_EvalFrameDefault + 0x38f4 (0x540c44 in /usr/bin/python3)\n",
      "frame #22: /usr/bin/python3() [0x628b90]\n",
      "frame #23: _PyEval_EvalFrameDefault + 0x343f (0x54078f in /usr/bin/python3)\n",
      "frame #24: /usr/bin/python3() [0x628b90]\n",
      "frame #25: _PyEval_EvalFrameDefault + 0x343f (0x54078f in /usr/bin/python3)\n",
      "frame #26: /usr/bin/python3() [0x628b90]\n",
      "frame #27: /usr/bin/python3() [0x62b1ac]\n",
      "frame #28: _PyEval_EvalFrameDefault + 0x3a82 (0x540dd2 in /usr/bin/python3)\n",
      "frame #29: /usr/bin/python3() [0x585ce7]\n",
      "frame #30: /usr/bin/python3() [0x5854ce]\n",
      "frame #31: PyObject_Call + 0xf4 (0x570914 in /usr/bin/python3)\n",
      "frame #32: _PyEval_EvalFrameDefault + 0x491a (0x541c6a in /usr/bin/python3)\n",
      "frame #33: /usr/bin/python3() [0x628b90]\n",
      "frame #34: _PyEval_EvalFrameDefault + 0x343f (0x54078f in /usr/bin/python3)\n",
      "frame #35: /usr/bin/python3() [0x628b90]\n",
      "frame #36: _PyEval_EvalFrameDefault + 0x343f (0x54078f in /usr/bin/python3)\n",
      "frame #37: /usr/bin/python3() [0x628b90]\n",
      "frame #38: _PyEval_EvalFrameDefault + 0x343f (0x54078f in /usr/bin/python3)\n",
      "frame #39: /usr/bin/python3() [0x628b90]\n",
      "frame #40: _PyEval_EvalFrameDefault + 0x343f (0x54078f in /usr/bin/python3)\n",
      "frame #41: /usr/bin/python3() [0x628b90]\n",
      "frame #42: <unknown function> + 0x745f (0x7cda8acce45f in /usr/lib/python3.11/lib-dynload/_asyncio.cpython-311-x86_64-linux-gnu.so)\n",
      "frame #43: /usr/bin/python3() [0x553bdf]\n",
      "frame #44: /usr/bin/python3() [0x4d0da1]\n",
      "frame #45: /usr/bin/python3() [0x4e9708]\n",
      "frame #46: /usr/bin/python3() [0x54b41b]\n",
      "frame #47: _PyEval_EvalFrameDefault + 0x978c (0x546adc in /usr/bin/python3)\n",
      "frame #48: /usr/bin/python3() [0x613cd4]\n",
      "frame #49: PyEval_EvalCode + 0x97 (0x613337 in /usr/bin/python3)\n",
      "frame #50: /usr/bin/python3() [0x62d0d3]\n",
      "frame #51: /usr/bin/python3() [0x54b41b]\n",
      "frame #52: PyObject_Vectorcall + 0x35 (0x54b305 in /usr/bin/python3)\n",
      "frame #53: _PyEval_EvalFrameDefault + 0x6bc (0x53da0c in /usr/bin/python3)\n",
      "frame #54: _PyFunction_Vectorcall + 0x173 (0x5663a3 in /usr/bin/python3)\n",
      "frame #55: /usr/bin/python3() [0x63ef00]\n",
      "frame #56: Py_RunMain + 0x13c (0x63e85c in /usr/bin/python3)\n",
      "frame #57: Py_BytesMain + 0x2d (0x6045dd in /usr/bin/python3)\n",
      "frame #58: <unknown function> + 0x29d90 (0x7cda8b40bd90 in /lib/x86_64-linux-gnu/libc.so.6)\n",
      "frame #59: __libc_start_main + 0x80 (0x7cda8b40be40 in /lib/x86_64-linux-gnu/libc.so.6)\n",
      "frame #60: _start + 0x25 (0x604465 in /usr/bin/python3)\n",
      ". Using default 'neutral' and 0.0 score.\n",
      "Stress: neutral, Score: 0.00\n",
      "Rhythm: slow, Speech Rate: 0.29 segments/s, Pause Ratio: 0.47\n",
      "Tone: fearful, Pitch Mean: 187.69, Energy: 0.25\n",
      "Audio Features: {'stress': {'label': 'neutral', 'score': 0.0}, 'rhythm': {'label': 'slow', 'speech_rate': 0.2929651737649687, 'pause_ratio': 0.4710147581206283}, 'tone': {'label': 'fearful', 'pitch_mean': 187.68720784323017, 'energy': 0.254275918006897}}\n",
      "Classification: {'label': 'normal', 'score': 0.7847124338150024}\n"
     ]
    },
    {
     "ename": "AttributeError",
     "evalue": "module 'vocal_analysis' has no attribute 'analyze_vocal_input'",
     "output_type": "error",
     "traceback": [
      "\u001b[0;31m---------------------------------------------------------------------------\u001b[0m",
      "\u001b[0;31mAttributeError\u001b[0m                            Traceback (most recent call last)",
      "\u001b[0;32m/tmp/ipython-input-9-1551109290.py\u001b[0m in \u001b[0;36m<cell line: 0>\u001b[0;34m()\u001b[0m\n\u001b[1;32m     23\u001b[0m \u001b[0;34m\u001b[0m\u001b[0m\n\u001b[1;32m     24\u001b[0m \u001b[0;31m#full implementation\u001b[0m\u001b[0;34m\u001b[0m\u001b[0;34m\u001b[0m\u001b[0m\n\u001b[0;32m---> 25\u001b[0;31m \u001b[0mresult\u001b[0m \u001b[0;34m=\u001b[0m \u001b[0mvocal_analysis\u001b[0m\u001b[0;34m.\u001b[0m\u001b[0manalyze_vocal_input\u001b[0m\u001b[0;34m(\u001b[0m\u001b[0maudio_path\u001b[0m\u001b[0;34m)\u001b[0m\u001b[0;34m\u001b[0m\u001b[0;34m\u001b[0m\u001b[0m\n\u001b[0m\u001b[1;32m     26\u001b[0m \u001b[0mprint\u001b[0m\u001b[0;34m(\u001b[0m\u001b[0;34m\"Full Analysis:\"\u001b[0m\u001b[0;34m,\u001b[0m \u001b[0mresult\u001b[0m\u001b[0;34m)\u001b[0m\u001b[0;34m\u001b[0m\u001b[0;34m\u001b[0m\u001b[0m\n\u001b[1;32m     27\u001b[0m \u001b[0;34m\u001b[0m\u001b[0m\n",
      "\u001b[0;31mAttributeError\u001b[0m: module 'vocal_analysis' has no attribute 'analyze_vocal_input'"
     ]
    }
   ],
   "source": [
    "\n",
    "from google.colab import drive\n",
    "drive.mount('/content/drive')\n",
    "%cd /content/drive/MyDrive/Solution_securite_perso/fusion\n",
    "import gc\n",
    "gc.collect()\n",
    "\n",
    "import vocal_analysis\n",
    "\n",
    "# Example usage\n",
    "audio_path = \"audio_test.wav\"\n",
    "\n",
    "# Individual functions\n",
    "transcription = vocal_analysis.transcribe_audio(audio_path)\n",
    "print(\"Transcription:\", transcription)\n",
    "\n",
    "features = vocal_analysis.audio_features(audio_path)\n",
    "print(\"Audio Features:\", features)\n",
    "\n",
    "\n",
    "classification = vocal_analysis.classify_text(transcription)\n",
    "print(\"Classification:\", classification)\n",
    "\n",
    "\n",
    "#full implementation\n",
    "result = vocal_analysis.analyze_vocal(audio_path)\n",
    "print(\"Full Analysis:\", result)\n",
    "\n"
   ]
  },
  {
   "cell_type": "code",
   "execution_count": null,
   "id": "ThzQ8_inbMEw",
   "metadata": {
    "colab": {
     "base_uri": "https://localhost:8080/"
    },
    "executionInfo": {
     "elapsed": 27753,
     "status": "ok",
     "timestamp": 1753180822381,
     "user": {
      "displayName": "HANINE BEN AMOR",
      "userId": "01416654941716385377"
     },
     "user_tz": -60
    },
    "id": "ThzQ8_inbMEw",
    "outputId": "d5475ee5-317d-413e-eba2-46d1ec09dd9d"
   },
   "outputs": [
    {
     "name": "stderr",
     "output_type": "stream",
     "text": [
      "/usr/local/lib/python3.11/dist-packages/whisper/transcribe.py:132: UserWarning: FP16 is not supported on CPU; using FP32 instead\n",
      "  warnings.warn(\"FP16 is not supported on CPU; using FP32 instead\")\n"
     ]
    },
    {
     "name": "stdout",
     "output_type": "stream",
     "text": [
      "Stress detection failed: Failed to open the input \"/content/drive/MyDrive/Solution_securite_perso/fusion/[ 6.3664629e-12  1.3642421e-12  4.5474735e-13 ... -2.1141185e-04\n",
      " -2.6080024e-04  0.0000000e+00]\" (No such file or directory).\n",
      "Exception raised from get_input_format_context at /__w/audio/audio/pytorch/audio/src/libtorio/ffmpeg/stream_reader/stream_reader.cpp:42 (most recent call first):\n",
      "frame #0: c10::Error::Error(c10::SourceLocation, std::string) + 0x96 (0x7cda3616c1b6 in /usr/local/lib/python3.11/dist-packages/torch/lib/libc10.so)\n",
      "frame #1: c10::detail::torchCheckFail(char const*, char const*, unsigned int, std::string const&) + 0x64 (0x7cda36115a76 in /usr/local/lib/python3.11/dist-packages/torch/lib/libc10.so)\n",
      "frame #2: <unknown function> + 0x42034 (0x7cd8f3dcf034 in /usr/local/lib/python3.11/dist-packages/torio/lib/libtorio_ffmpeg4.so)\n",
      "frame #3: torio::io::StreamingMediaDecoder::StreamingMediaDecoder(std::string const&, std::optional<std::string> const&, std::optional<std::map<std::string, std::string, std::less<std::string>, std::allocator<std::pair<std::string const, std::string> > > > const&) + 0x14 (0x7cd8f3dd1a34 in /usr/local/lib/python3.11/dist-packages/torio/lib/libtorio_ffmpeg4.so)\n",
      "frame #4: <unknown function> + 0x3bfee (0x7cd8dd99afee in /usr/local/lib/python3.11/dist-packages/torio/lib/_torio_ffmpeg4.so)\n",
      "frame #5: <unknown function> + 0x330c7 (0x7cd8dd9920c7 in /usr/local/lib/python3.11/dist-packages/torio/lib/_torio_ffmpeg4.so)\n",
      "frame #6: /usr/bin/python3() [0x55577b]\n",
      "frame #7: _PyObject_MakeTpCall + 0x27c (0x52f85c in /usr/bin/python3)\n",
      "frame #8: /usr/bin/python3() [0x5855cd]\n",
      "frame #9: /usr/bin/python3() [0x56e459]\n",
      "frame #10: /usr/bin/python3() [0x52fc40]\n",
      "frame #11: <unknown function> + 0xfc6b (0x7cd8f4383c6b in /usr/local/lib/python3.11/dist-packages/torchaudio/lib/_torchaudio.so)\n",
      "frame #12: _PyObject_MakeTpCall + 0x27c (0x52f85c in /usr/bin/python3)\n",
      "frame #13: _PyEval_EvalFrameDefault + 0x6bc (0x53da0c in /usr/bin/python3)\n",
      "frame #14: _PyFunction_Vectorcall + 0x173 (0x5663a3 in /usr/bin/python3)\n",
      "frame #15: /usr/bin/python3() [0x56e0e6]\n",
      "frame #16: _PyObject_MakeTpCall + 0x23b (0x52f81b in /usr/bin/python3)\n",
      "frame #17: _PyEval_EvalFrameDefault + 0x6bc (0x53da0c in /usr/bin/python3)\n",
      "frame #18: /usr/bin/python3() [0x613cd4]\n",
      "frame #19: PyEval_EvalCode + 0x97 (0x613337 in /usr/bin/python3)\n",
      "frame #20: /usr/bin/python3() [0x62d0d3]\n",
      "frame #21: _PyEval_EvalFrameDefault + 0x38f4 (0x540c44 in /usr/bin/python3)\n",
      "frame #22: /usr/bin/python3() [0x628b90]\n",
      "frame #23: _PyEval_EvalFrameDefault + 0x343f (0x54078f in /usr/bin/python3)\n",
      "frame #24: /usr/bin/python3() [0x628b90]\n",
      "frame #25: _PyEval_EvalFrameDefault + 0x343f (0x54078f in /usr/bin/python3)\n",
      "frame #26: /usr/bin/python3() [0x628b90]\n",
      "frame #27: /usr/bin/python3() [0x62b1ac]\n",
      "frame #28: _PyEval_EvalFrameDefault + 0x3a82 (0x540dd2 in /usr/bin/python3)\n",
      "frame #29: /usr/bin/python3() [0x585ce7]\n",
      "frame #30: /usr/bin/python3() [0x5854ce]\n",
      "frame #31: PyObject_Call + 0xf4 (0x570914 in /usr/bin/python3)\n",
      "frame #32: _PyEval_EvalFrameDefault + 0x491a (0x541c6a in /usr/bin/python3)\n",
      "frame #33: /usr/bin/python3() [0x628b90]\n",
      "frame #34: _PyEval_EvalFrameDefault + 0x343f (0x54078f in /usr/bin/python3)\n",
      "frame #35: /usr/bin/python3() [0x628b90]\n",
      "frame #36: _PyEval_EvalFrameDefault + 0x343f (0x54078f in /usr/bin/python3)\n",
      "frame #37: /usr/bin/python3() [0x628b90]\n",
      "frame #38: _PyEval_EvalFrameDefault + 0x343f (0x54078f in /usr/bin/python3)\n",
      "frame #39: /usr/bin/python3() [0x628b90]\n",
      "frame #40: _PyEval_EvalFrameDefault + 0x343f (0x54078f in /usr/bin/python3)\n",
      "frame #41: /usr/bin/python3() [0x628b90]\n",
      "frame #42: <unknown function> + 0x745f (0x7cda8acce45f in /usr/lib/python3.11/lib-dynload/_asyncio.cpython-311-x86_64-linux-gnu.so)\n",
      "frame #43: /usr/bin/python3() [0x553bdf]\n",
      "frame #44: /usr/bin/python3() [0x4d0da1]\n",
      "frame #45: /usr/bin/python3() [0x4e9708]\n",
      "frame #46: /usr/bin/python3() [0x54b41b]\n",
      "frame #47: _PyEval_EvalFrameDefault + 0x978c (0x546adc in /usr/bin/python3)\n",
      "frame #48: /usr/bin/python3() [0x613cd4]\n",
      "frame #49: PyEval_EvalCode + 0x97 (0x613337 in /usr/bin/python3)\n",
      "frame #50: /usr/bin/python3() [0x62d0d3]\n",
      "frame #51: /usr/bin/python3() [0x54b41b]\n",
      "frame #52: PyObject_Vectorcall + 0x35 (0x54b305 in /usr/bin/python3)\n",
      "frame #53: _PyEval_EvalFrameDefault + 0x6bc (0x53da0c in /usr/bin/python3)\n",
      "frame #54: _PyFunction_Vectorcall + 0x173 (0x5663a3 in /usr/bin/python3)\n",
      "frame #55: /usr/bin/python3() [0x63ef00]\n",
      "frame #56: Py_RunMain + 0x13c (0x63e85c in /usr/bin/python3)\n",
      "frame #57: Py_BytesMain + 0x2d (0x6045dd in /usr/bin/python3)\n",
      "frame #58: <unknown function> + 0x29d90 (0x7cda8b40bd90 in /lib/x86_64-linux-gnu/libc.so.6)\n",
      "frame #59: __libc_start_main + 0x80 (0x7cda8b40be40 in /lib/x86_64-linux-gnu/libc.so.6)\n",
      "frame #60: _start + 0x25 (0x604465 in /usr/bin/python3)\n",
      ". Using default 'neutral' and 0.0 score.\n",
      "Stress: neutral, Score: 0.00\n",
      "Rhythm: slow, Speech Rate: 0.29 segments/s, Pause Ratio: 0.47\n",
      "Tone: fearful, Pitch Mean: 187.69, Energy: 0.25\n",
      "Full Analysis: {'transcription': ' فهمتو داء Dushe firm', 'classification': {'label': 'normal', 'score': 0.8373212814331055}, 'audio_features': {'stress': {'label': 'neutral', 'score': 0.0}, 'rhythm': {'label': 'slow', 'speech_rate': 0.2929651737649687, 'pause_ratio': 0.4710147581206283}, 'tone': {'label': 'fearful', 'pitch_mean': 187.68720784323017, 'energy': 0.254275918006897}}}\n"
     ]
    }
   ],
   "source": [
    "#Comprehensive analysis\n",
    "import vocal_analysis\n",
    "\n",
    "audio_path = \"audio_test.wav\"\n",
    "result = vocal_analysis.analyze_vocal(audio_path)\n",
    "print(\"Full Analysis:\", result)"
   ]
  },
  {
   "cell_type": "code",
   "execution_count": null,
   "id": "2cb91b76",
   "metadata": {
    "id": "2cb91b76"
   },
   "outputs": [],
   "source": [
    "\n",
    "# Cell 2: Test Scenario 1 - Normal Case\n",
    "print(\"=== Testing Normal Case ===\")\n",
    "result = process_capture(\"user123\", 40.7128, -74.0060, ts_collection, geo_collection, users_collection)\n",
    "print(\"Result:\", result)\n",
    "\n",
    "# Cell 3: Test Scenario 2 - High-Risk Case\n",
    "print(\"\\n=== Testing High-Risk Case ===\")\n",
    "def detect_emergency_keyword(user_id):  # Override for high-risk\n",
    "    return 1.0\n",
    "def predict_audio_stress(user_id):  # Override for high-risk\n",
    "    return 0.9\n",
    "result = process_capture(\"user123\", 40.7128, -74.0060, ts_collection, geo_collection, users_collection)\n",
    "print(\"High-Risk Result:\", result)\n",
    "\n",
    "# Cell 4: Test Scenario 3 - Missing Data\n",
    "print(\"\\n=== Testing Missing Data ===\")\n",
    "def predict_crime_risk(lat, lon):  # Simulate missing data\n",
    "    return 0.0\n",
    "def detect_movement_anomaly(user_id, ts_collection, lat, lon, now):\n",
    "    return 0.0\n",
    "result = process_capture(\"user123\", 40.7128, -74.0060, ts_collection, geo_collection, users_collection)\n",
    "print(\"Missing Data Result:\", result)\n",
    "\n",
    "# Cell 5: Test Scenario 4 - Error Case\n",
    "print(\"\\n=== Testing Error Case ===\")\n",
    "def capture_and_store(user_id, lat, lon, ts_collection, geo_collection, users_collection):\n",
    "    raise Exception(\"Database connection failed\")\n",
    "result = process_capture(\"user123\", 40.7128, -74.0060, ts_collection, geo_collection, users_collection)\n",
    "print(\"Error Case Result:\", result)"
   ]
  },
  {
   "cell_type": "code",
   "execution_count": null,
   "id": "26766453",
   "metadata": {
    "id": "26766453"
   },
   "outputs": [],
   "source": [
    "# Cell 6: Test Scenario 5 - Low-Risk Case\n",
    "print(\"\\n=== Testing Low-Risk Case ===\")\n",
    "def predict_crime_risk(lat, lon):\n",
    "    return 0.1\n",
    "def detect_movement_anomaly(user_id, ts_collection, lat, lon, now):\n",
    "    return 0.1\n",
    "def predict_audio_stress(user_id):\n",
    "    return 0.1\n",
    "def detect_emergency_keyword(user_id):\n",
    "    return 0.0\n",
    "def detect_user_anomalies(lat, lon, hour, weekday, month, user_id, ts_collection, prob_threshold):\n",
    "    return 0.0, 0.1\n",
    "def predict_incident(model, scaler, loc_anomaly, time_anomaly):\n",
    "    return 0.1\n",
    "result = process_capture(\"user123\", 40.7128, -74.0060, ts_collection, geo_collection, users_collection)\n",
    "print(\"Low-Risk Result:\", result)"
   ]
  },
  {
   "cell_type": "code",
   "execution_count": null,
   "id": "neOc-QVMlhcU",
   "metadata": {
    "colab": {
     "base_uri": "https://localhost:8080/"
    },
    "executionInfo": {
     "elapsed": 86475,
     "status": "ok",
     "timestamp": 1753178842082,
     "user": {
      "displayName": "HANINE BEN AMOR",
      "userId": "01416654941716385377"
     },
     "user_tz": -60
    },
    "id": "neOc-QVMlhcU",
    "outputId": "f5c579fe-42f5-479b-e700-0837453f0ef0"
   },
   "outputs": [
    {
     "name": "stdout",
     "output_type": "stream",
     "text": [
      "Drive already mounted at /content/drive; to attempt to forcibly remount, call drive.mount(\"/content/drive\", force_remount=True).\n",
      "/content/drive/MyDrive/Solution_securite_perso\n",
      "fatal: could not parse HEAD\n",
      "Host key verification failed.\n",
      "fatal: Could not read from remote repository.\n",
      "\n",
      "Please make sure you have the correct access rights\n",
      "and the repository exists.\n"
     ]
    }
   ],
   "source": [
    "from google.colab import drive\n",
    "drive.mount('/content/drive')\n",
    "%cd /content/drive/MyDrive/Solution_securite_perso\n",
    "!git add .\n",
    "!git commit -m \"vocal file and test done \"\n",
    "!git push -u origin main"
   ]
  },
  {
   "cell_type": "code",
   "execution_count": null,
   "id": "jv2AK3Jpl8Iq",
   "metadata": {
    "id": "jv2AK3Jpl8Iq"
   },
   "outputs": [],
   "source": []
  }
 ],
 "metadata": {
  "colab": {
   "gpuType": "T4",
   "provenance": []
  },
  "kernelspec": {
   "display_name": "audio-env",
   "language": "python",
   "name": "python3"
  },
  "language_info": {
   "codemirror_mode": {
    "name": "ipython",
    "version": 3
   },
   "file_extension": ".py",
   "mimetype": "text/x-python",
   "name": "python",
   "nbconvert_exporter": "python",
   "pygments_lexer": "ipython3",
   "version": "3.10.18"
  }
 },
 "nbformat": 4,
 "nbformat_minor": 5
}
