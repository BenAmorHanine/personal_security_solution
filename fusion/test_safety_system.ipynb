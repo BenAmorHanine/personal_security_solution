{
 "cells": [
  {
   "cell_type": "code",
   "execution_count": null,
   "id": "17c1ac76",
   "metadata": {},
   "outputs": [
    {
     "data": {
      "text/plain": [
       "'# Mock model functions\\ndef capture_and_store(user_id, lat, lon, ts_collection, geo_collection, users_collection):\\n    return datetime.now()\\n\\ndef load_threshold_model(user_id):\\n    return None\\n\\ndef predict_threshold(model, features):\\n    return 0.05\\n\\ndef detect_user_anomalies(lat, lon, hour, weekday, month, user_id, ts_collection, prob_threshold):\\n    return 0.0, 0.6  # loc_anomaly, time_anomaly\\n\\ndef load_incident_model(user_id):\\n    return None, None\\n\\ndef predict_incident(model, scaler, loc_anomaly, time_anomaly):\\n    return 0.5\\n\\ndef predict_crime_risk(lat, lon):\\n    return 0.7\\n\\ndef detect_movement_anomaly(user_id, ts_collection, lat, lon, now):\\n    return 0.8\\n\\ndef predict_audio_stress(user_id):\\n    return 0.4\\n\\ndef detect_emergency_keyword(user_id):\\n    return 0.0\\n\\ndef insert_user_alert(users_collection, user_id, loc_anomaly, time_anomaly, incident_prob, trigger_alert):\\n    print(f\"Stored alert for {user_id}\")'"
      ]
     },
     "execution_count": 1,
     "metadata": {},
     "output_type": "execute_result"
    }
   ],
   "source": [
    "# Cell 1: Imports and Mock Setup\n",
    "import pandas as pd\n",
    "from datetime import datetime\n",
    "from unittest.mock import MagicMock\n",
    "\n",
    "from process_capture import process_capture\n",
    "from fusion_core import fuse_alerts, display_outputs, trigger_alert, DEFAULT_WEIGHTS\n",
    "\n",
    "# Mock database collections\n",
    "ts_collection = MagicMock()\n",
    "geo_collection = MagicMock()\n",
    "users_collection = MagicMock()\n",
    "ts_collection.find.return_value = [{\"hour\": 12},  {\"lat\": 40.7128}, {\"lon\": -74.0060}]\n",
    "\n",
    "\"\"\"# Mock model functions\n",
    "def capture_and_store(user_id, lat, lon, ts_collection, geo_collection, users_collection):\n",
    "    return datetime.now()\n",
    "\n",
    "def load_threshold_model(user_id):\n",
    "    return None\n",
    "\n",
    "def predict_threshold(model, features):\n",
    "    return 0.05\n",
    "\n",
    "def detect_user_anomalies(lat, lon, hour, weekday, month, user_id, ts_collection, prob_threshold):\n",
    "    return 0.0, 0.6  # loc_anomaly, time_anomaly\n",
    "\n",
    "def load_incident_model(user_id):\n",
    "    return None, None\n",
    "\n",
    "def predict_incident(model, scaler, loc_anomaly, time_anomaly):\n",
    "    return 0.5\n",
    "\n",
    "def predict_crime_risk(lat, lon):\n",
    "    return 0.7\n",
    "\n",
    "def detect_movement_anomaly(user_id, ts_collection, lat, lon, now):\n",
    "    return 0.8\n",
    "\n",
    "def predict_audio_stress(user_id):\n",
    "    return 0.4\n",
    "\n",
    "def detect_emergency_keyword(user_id):\n",
    "    return 0.0\n",
    "\n",
    "def insert_user_alert(users_collection, user_id, loc_anomaly, time_anomaly, incident_prob, trigger_alert):\n",
    "    print(f\"Stored alert for {user_id}\")\"\"\"\n",
    "#INSTEAD HERE WE NEED TO CALL OUR MODELS.\n"
   ]
  },
  {
   "cell_type": "markdown",
   "id": "fc67e6a1",
   "metadata": {},
   "source": [
    "IMPORTING THE FIRSTMODEL: HIGH RISK LOCATOR"
   ]
  },
  {
   "cell_type": "code",
   "execution_count": null,
   "id": "dadc207c",
   "metadata": {},
   "outputs": [],
   "source": [
    "import joblib\n",
    "from pathlib import Path\n",
    "\n",
    "\n",
    "#DBSCAN artifacts\n",
    "dbscan       = joblib.load( \"../models/riskyzones/risky_location_model_dbscan.pkl\")\n",
    "cw_dbscan    = joblib.load(\"../models/riskyzones/cluster_weights_dbscan.pkl\")\n",
    "cf_dbscan    = joblib.load(\"../models/riskyzones/cluster_fatalities_dbscan.pkl\")\n",
    "cet_dbscan   = joblib.load(\"../models/riskyzones/cluster_event_types_dbscan.pkl\")\n",
    "\n",
    "#OPTICS artifacts\n",
    "optics       = joblib.load(\"../models/riskyzones/risky_location_model_optics.pkl\")\n",
    "cw_optics    = joblib.load(\"../models/riskyzones/cluster_weights_optics.pkl\")\n",
    "cf_optics    = joblib.load(\"../models/riskyzones/cluster_fatalities_optics.pkl\")\n",
    "cet_optics   = joblib.load(\"../models/riskyzones/cluster_event_types_optics.pkl\")\n",
    "#the coordinate scaler and scaled data\n",
    "scaler = joblib.load(\"../models/riskyzones/scaler__risky_loc.pkl\")\n",
    "X_scaled = joblib.load(\"../models/riskyzones/X_scaled.pkl\")\n"
   ]
  },
  {
   "cell_type": "code",
   "execution_count": null,
   "id": "079e2cc2",
   "metadata": {},
   "outputs": [],
   "source": [
    "# Load models for user 1(as a prototype user)\n",
    "# 2) Dynamic‐threshold model (RandomForestRegressor)\n",
    "thr_model = joblib.load(\"../models/user1_threshold_model.pkl\")\n",
    "\n",
    "# 3) Incident‐prediction model + scaler\n",
    "inc_model   = joblib.load(\"../models/user1_xgboost.pkl\")\n",
    "inc_scaler  = joblib.load(\"../models/user1_xgboost_scaler.pkl\")\n",
    "\n",
    "# 4) Audio‐stress model\n",
    "audio_model = joblib.load(\"../models/user1_audio_stress_model.pkl\")\n",
    "\n",
    "# 5) Keyword‐spotting model\n",
    "kw_model    = joblib.load(\"../models/user1_keyword_spotter.pkl\")\n",
    "\n",
    "# (Optionally) 6) Movement‐anomaly clustering if it’s separate\n",
    "move_clust, move_scaler = joblib.load(\"../models/user1_movement_cluster.pkl\"), \\\n",
    "                          joblib.load(\"../models/user1_movement_scaler.pkl\")\n"
   ]
  },
  {
   "cell_type": "code",
   "execution_count": null,
   "id": "2cb91b76",
   "metadata": {},
   "outputs": [],
   "source": [
    "\n",
    "# Cell 2: Test Scenario 1 - Normal Case\n",
    "print(\"=== Testing Normal Case ===\")\n",
    "result = process_capture(\"user123\", 40.7128, -74.0060, ts_collection, geo_collection, users_collection)\n",
    "print(\"Result:\", result)\n",
    "\n",
    "# Cell 3: Test Scenario 2 - High-Risk Case\n",
    "print(\"\\n=== Testing High-Risk Case ===\")\n",
    "def detect_emergency_keyword(user_id):  # Override for high-risk\n",
    "    return 1.0\n",
    "def predict_audio_stress(user_id):  # Override for high-risk\n",
    "    return 0.9\n",
    "result = process_capture(\"user123\", 40.7128, -74.0060, ts_collection, geo_collection, users_collection)\n",
    "print(\"High-Risk Result:\", result)\n",
    "\n",
    "# Cell 4: Test Scenario 3 - Missing Data\n",
    "print(\"\\n=== Testing Missing Data ===\")\n",
    "def predict_crime_risk(lat, lon):  # Simulate missing data\n",
    "    return 0.0\n",
    "def detect_movement_anomaly(user_id, ts_collection, lat, lon, now):\n",
    "    return 0.0\n",
    "result = process_capture(\"user123\", 40.7128, -74.0060, ts_collection, geo_collection, users_collection)\n",
    "print(\"Missing Data Result:\", result)\n",
    "\n",
    "# Cell 5: Test Scenario 4 - Error Case\n",
    "print(\"\\n=== Testing Error Case ===\") \n",
    "def capture_and_store(user_id, lat, lon, ts_collection, geo_collection, users_collection):\n",
    "    raise Exception(\"Database connection failed\")\n",
    "result = process_capture(\"user123\", 40.7128, -74.0060, ts_collection, geo_collection, users_collection)\n",
    "print(\"Error Case Result:\", result)"
   ]
  },
  {
   "cell_type": "code",
   "execution_count": null,
   "id": "26766453",
   "metadata": {},
   "outputs": [],
   "source": [
    "# Cell 6: Test Scenario 5 - Low-Risk Case\n",
    "print(\"\\n=== Testing Low-Risk Case ===\")\n",
    "def predict_crime_risk(lat, lon):\n",
    "    return 0.1\n",
    "def detect_movement_anomaly(user_id, ts_collection, lat, lon, now):\n",
    "    return 0.1\n",
    "def predict_audio_stress(user_id):\n",
    "    return 0.1\n",
    "def detect_emergency_keyword(user_id):\n",
    "    return 0.0\n",
    "def detect_user_anomalies(lat, lon, hour, weekday, month, user_id, ts_collection, prob_threshold):\n",
    "    return 0.0, 0.1\n",
    "def predict_incident(model, scaler, loc_anomaly, time_anomaly):\n",
    "    return 0.1\n",
    "result = process_capture(\"user123\", 40.7128, -74.0060, ts_collection, geo_collection, users_collection)\n",
    "print(\"Low-Risk Result:\", result)"
   ]
  }
 ],
 "metadata": {
  "kernelspec": {
   "display_name": "Python 3",
   "language": "python",
   "name": "python3"
  },
  "language_info": {
   "codemirror_mode": {
    "name": "ipython",
    "version": 3
   },
   "file_extension": ".py",
   "mimetype": "text/x-python",
   "name": "python",
   "nbconvert_exporter": "python",
   "pygments_lexer": "ipython3",
   "version": "3.12.4"
  }
 },
 "nbformat": 4,
 "nbformat_minor": 5
}
