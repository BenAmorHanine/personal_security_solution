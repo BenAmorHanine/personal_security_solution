{
 "cells": [
  {
   "cell_type": "code",
   "execution_count": 7,
   "id": "d86ebe7c",
   "metadata": {},
   "outputs": [],
   "source": [
    "# Jupyter Notebook: Risky Location Model for Personal Security Solution (ACLED Tunisia)\n",
    "\n",
    "# Import libraries\n",
    "import pandas as pd\n",
    "import numpy as np\n",
    "from sklearn.cluster import DBSCAN\n",
    "from sklearn.preprocessing import StandardScaler\n",
    "from sklearn.neighbors import NearestNeighbors\n",
    "from scipy.stats import gaussian_kde\n",
    "import matplotlib.pyplot as plt\n",
    "import seaborn as sns\n",
    "import geopandas as gpd\n",
    "import os\n",
    "import warnings\n",
    "\n",
    "# Suppress warnings for cleaner output\n",
    "warnings.filterwarnings('ignore')\n",
    "\n",
    "# Note: Tailored for ACLED Tunisia dataset (1997-2025, ~11,367 events).\n",
    "# Using '../data/tunisia_acled_1997_2025.csv' (~5.7 MB).\n",
    "# Filtering for ~2,623 high-risk events: Riots (1905), Violence against civilians (184),\n",
    "# Battles (307), Explosions/Remote violence (227), plus sub-events like Violent demonstration.\n",
    "# Improvements: Temporal features (month, day_of_week cyclic), event type weights,\n",
    "# hybrid scoring (density + recency + fatalities), KDE heatmap, enhanced predictions\n",
    "# (score, distance, event type), temporal weighting (alpha=0.5), noise handling (beta=10),\n",
    "# dynamic eps, Tunisia map.\n",
    "# DBSCAN eps=dynamic (0.01-0.1), min_samples=3-5.\n",
    "# Tunisia's area (~163,610 km²) requires smaller eps vs. Chicago (~606 km²).\n"
   ]
  },
  {
   "cell_type": "code",
   "execution_count": 50,
   "id": "dade4565",
   "metadata": {},
   "outputs": [],
   "source": [
    "\n",
    "# Step 1: Load and preprocess ACLED data\n",
    "acled_file = '../data/1900-01-01-2025-06-18-Northern_Africa-Tunisia.csv'\n",
    "crime_file = '../data/tunisia_street_crime.csv'\n",
    "current_year = 2025\n",
    "alpha = 0.5  # Time decay parameter\n",
    "beta = 10.0  # Noise distance decay parameter\n",
    "event_type_weights = {\n",
    "    'Battles': 2.0,\n",
    "    'Violence against civilians': 3.0,\n",
    "    'Explosions/Remote violence': 1.2,\n",
    "    'Riots': 1.0,\n",
    "    'Protests': 0.5,\n",
    "    'Street Crime': 3.0\n",
    "}\n",
    "\n",
    "# Optimize data types\n",
    "dtypes = {\n",
    "    'latitude': 'float32',\n",
    "    'longitude': 'float32',\n",
    "    'event_type': 'category',\n",
    "    'sub_event_type': 'category',\n",
    "    'disorder_type': 'category',\n",
    "    'civilian_targeting': 'category',\n",
    "    'fatalities': 'int32',\n",
    "    'event_date': 'object',\n",
    "    'year': 'int32',\n",
    "    'admin1': 'category',\n",
    "    'location': 'category'\n",
    "}"
   ]
  },
  {
   "cell_type": "code",
   "execution_count": 51,
   "id": "4d893b21",
   "metadata": {},
   "outputs": [
    {
     "name": "stdout",
     "output_type": "stream",
     "text": [
      "Loading ACLED Tunisia Data from ../data/1900-01-01-2025-06-18-Northern_Africa-Tunisia.csv\n",
      "Columns in CSV: ['event_date', 'year', 'disorder_type', 'event_type', 'sub_event_type', 'civilian_targeting', 'admin1', 'location', 'latitude', 'longitude', 'fatalities']\n",
      "Total events: 11367\n"
     ]
    }
   ],
   "source": [
    "\n",
    "\n",
    "try:\n",
    "    if os.path.exists(acled_file):\n",
    "        print(f\"Loading ACLED Tunisia Data from {acled_file}\")\n",
    "        df = pd.read_csv(acled_file, dtype=dtypes, usecols=[\n",
    "            'latitude', 'longitude', 'event_type', 'sub_event_type', 'disorder_type',\n",
    "            'civilian_targeting', 'fatalities', 'event_date', 'year', 'admin1', 'location'\n",
    "        ])\n",
    "        print(\"Columns in CSV:\", df.columns.tolist())\n",
    "        print(\"Total events:\", len(df))\n",
    "    else:\n",
    "        print(f\"No ACLED data found at {acled_file}.\")\n",
    "        print(\"Download from https://acleddata.com/data-export-tool/\")\n",
    "        raise FileNotFoundError(\"ACLED data missing\")\n",
    "\n",
    "    # Check required columns\n",
    "    required_cols = ['latitude', 'longitude', 'event_type', 'sub_event_type', 'fatalities', 'year', 'event_date']\n",
    "    available_cols = df.columns.tolist()\n",
    "    missing_cols = [col for col in required_cols if col not in available_cols]\n",
    "    if missing_cols:\n",
    "        print(f\"Error: Missing columns {missing_cols}. Available columns: {available_cols}\")\n",
    "        raise ValueError(\"Missing required columns\")\n",
    "\n",
    "    # Load street crime data if available\n",
    "    if os.path.exists(crime_file):\n",
    "        crime_df = pd.read_csv(crime_file, dtype={'latitude': 'float32', 'longitude': 'float32'})\n",
    "        crime_df['event_type'] = 'Street Crime'\n",
    "        crime_df['sub_event_type'] = 'Assault/Robbery'\n",
    "        crime_df['fatalities'] = 0\n",
    "        crime_df['year'] = 2025\n",
    "        crime_df['event_date'] = '01/01/2025'\n",
    "        crime_df['admin1'] = 'Unknown'\n",
    "        df = pd.concat([df, crime_df], ignore_index=True)\n",
    "        print(\"Added street crime data:\", crime_df.shape)\n",
    "\n",
    "except MemoryError:\n",
    "    print(\"MemoryError: Insufficient RAM. Try closing other applications or running on Google Colab.\")\n",
    "    raise\n",
    "except Exception as e:\n",
    "    print(f\"Error loading data: {e}. Ensure '../data/tunisia_acled_1997_2025.csv' exists.\")\n",
    "    raise\n"
   ]
  },
  {
   "cell_type": "code",
   "execution_count": 52,
   "id": "32a3b67a",
   "metadata": {},
   "outputs": [
    {
     "name": "stdout",
     "output_type": "stream",
     "text": [
      "Shape after dropping missing coordinates: (11367, 11)\n"
     ]
    }
   ],
   "source": [
    "\n",
    "# Drop rows with missing coordinates\n",
    "df = df.dropna(subset=['latitude', 'longitude'])\n",
    "print(\"Shape after dropping missing coordinates:\", df.shape)\n"
   ]
  },
  {
   "cell_type": "code",
   "execution_count": 53,
   "id": "aef5e8eb",
   "metadata": {},
   "outputs": [
    {
     "name": "stdout",
     "output_type": "stream",
     "text": [
      "Temporal features added:\n",
      "    month     month_sin  month_cos  day_of_week  day_of_week_sin  \\\n",
      "0      6  1.224647e-16       -1.0            0         0.000000   \n",
      "1      6  1.224647e-16       -1.0            0         0.000000   \n",
      "2      6  1.224647e-16       -1.0            0         0.000000   \n",
      "3      6  1.224647e-16       -1.0            1         0.781831   \n",
      "4      6  1.224647e-16       -1.0            1         0.781831   \n",
      "\n",
      "   day_of_week_cos  \n",
      "0          1.00000  \n",
      "1          1.00000  \n",
      "2          1.00000  \n",
      "3          0.62349  \n",
      "4          0.62349  \n"
     ]
    }
   ],
   "source": [
    "\n",
    "# Parse event_date and extract temporal features\n",
    "df['event_date'] = pd.to_datetime(df['event_date'], format='%d %B %Y', errors='coerce')\n",
    "df['month'] = df['event_date'].dt.month\n",
    "df['day_of_week'] = df['event_date'].dt.dayofweek\n",
    "df['month_sin'] = np.sin(2 * np.pi * df['month'] / 12)\n",
    "df['month_cos'] = np.cos(2 * np.pi * df['month'] / 12)\n",
    "df['day_of_week_sin'] = np.sin(2 * np.pi * df['day_of_week'] / 7)\n",
    "df['day_of_week_cos'] = np.cos(2 * np.pi * df['day_of_week'] / 7)\n",
    "print(\"Temporal features added:\\n\", df[['month', 'month_sin', 'month_cos', 'day_of_week', 'day_of_week_sin', 'day_of_week_cos']].head())\n"
   ]
  },
  {
   "cell_type": "code",
   "execution_count": 54,
   "id": "0d0c3768",
   "metadata": {},
   "outputs": [
    {
     "name": "stdout",
     "output_type": "stream",
     "text": [
      "Weight distributions:\n",
      "        temporal_weight  event_type_weight  severity_weight\n",
      "count     1.136700e+04       11367.000000     1.136700e+04\n",
      "mean      1.338166e-01           0.678754     7.718339e-02\n",
      "std       1.966624e-01           0.426244     1.189431e-01\n",
      "min       8.315287e-07           0.500000     4.157644e-07\n",
      "25%       1.831564e-02           0.500000     9.157819e-03\n",
      "50%       4.978707e-02           0.500000     4.104250e-02\n",
      "75%       1.353353e-01           0.500000     8.208500e-02\n",
      "max       1.000000e+00           3.000000     3.000000e+00\n"
     ]
    }
   ],
   "source": [
    "\n",
    "# Add temporal and event type weights\n",
    "df['temporal_weight'] = np.exp(-alpha * (current_year - df['year']))\n",
    "df['event_type_weight'] = df['event_type'].map(event_type_weights).fillna(0.5)\n",
    "df['severity_weight'] = df['temporal_weight'] * df['event_type_weight']\n",
    "print(\"Weight distributions:\\n\", df[['temporal_weight', 'event_type_weight', 'severity_weight']].describe())\n"
   ]
  },
  {
   "cell_type": "code",
   "execution_count": 55,
   "id": "1295afeb",
   "metadata": {},
   "outputs": [
    {
     "name": "stdout",
     "output_type": "stream",
     "text": [
      "Shape after filtering high-risk events (year>=2011): (2620, 20)\n",
      "Event types:\n",
      " event_type\n",
      "Riots                         1881\n",
      "Battles                        305\n",
      "Explosions/Remote violence     225\n",
      "Violence against civilians     174\n",
      "Protests                        33\n",
      "Strategic developments           2\n",
      "Name: count, dtype: int64\n",
      "Sub-event types:\n",
      " sub_event_type\n",
      "Violent demonstration                 1640\n",
      "Armed clash                            305\n",
      "Mob violence                           241\n",
      "Attack                                 163\n",
      "Remote explosive/landmine/IED          161\n",
      "Excessive force against protesters      33\n",
      "Shelling/artillery/missile attack       32\n",
      "Air/drone strike                        28\n",
      "Abduction/forced disappearance          11\n",
      "Suicide bomb                             4\n",
      "Disrupted weapons use                    2\n",
      "Headquarters or base established         0\n",
      "Agreement                                0\n",
      "Non-violent transfer of territory        0\n",
      "Other                                    0\n",
      "Peaceful protest                         0\n",
      "Protest with intervention                0\n",
      "Change to group/activity                 0\n",
      "Arrests                                  0\n",
      "Looting/property destruction             0\n",
      "Name: count, dtype: int64\n",
      "Fatalities distribution:\n",
      " fatalities\n",
      "0     2330\n",
      "1      157\n",
      "2       57\n",
      "4       20\n",
      "3       17\n",
      "5       10\n",
      "6        7\n",
      "8        4\n",
      "9        3\n",
      "10       3\n",
      "16       2\n",
      "13       2\n",
      "7        2\n",
      "38       1\n",
      "54       1\n",
      "22       1\n",
      "15       1\n",
      "42       1\n",
      "11       1\n",
      "Name: count, dtype: int64\n"
     ]
    }
   ],
   "source": [
    "\n",
    "# Filter for high-risk events (post-2011)\n",
    "high_risk_events = ['Violence against civilians', 'Riots', 'Battles', 'Explosions/Remote violence']\n",
    "high_risk_sub_events = ['Violent demonstration', 'Mob violence', 'Attack', 'Remote explosive/landmine/IED', 'Excessive force against protesters']\n",
    "df = df[(df['year'] >= 2011) & (\n",
    "    df['event_type'].isin(high_risk_events) |\n",
    "    df['sub_event_type'].isin(high_risk_sub_events) |\n",
    "    df['civilian_targeting'].notna() |\n",
    "    (df['fatalities'] > 0) |\n",
    "    ((df['event_type'] == 'Protests') & (df['sub_event_type'] == 'Violent demonstration'))\n",
    ")]\n",
    "print(\"Shape after filtering high-risk events (year>=2011):\", df.shape)\n",
    "print(\"Event types:\\n\", df['event_type'].value_counts())\n",
    "print(\"Sub-event types:\\n\", df['sub_event_type'].value_counts())\n",
    "print(\"Fatalities distribution:\\n\", df['fatalities'].value_counts())\n"
   ]
  },
  {
   "cell_type": "code",
   "execution_count": 56,
   "id": "3c26b912",
   "metadata": {},
   "outputs": [],
   "source": [
    "\n",
    "# Check if data is sufficient\n",
    "if df.shape[0] < 1000:\n",
    "    print(\"Warning: Only\", df.shape[0], \"high-risk events found. Adding synthetic data for Tunis.\")\n",
    "    synthetic = pd.DataFrame({\n",
    "        'latitude': np.random.normal(36.8065, 0.02, 300),\n",
    "        'longitude': np.random.normal(10.1815, 0.02, 300),\n",
    "        'event_type': 'Violence against civilians',\n",
    "        'sub_event_type': 'Attack',\n",
    "        'fatalities': np.random.randint(0, 2, 300),\n",
    "        'event_date': pd.to_datetime('01/01/2025'),\n",
    "        'year': 2025,\n",
    "        'admin1': 'Tunis',\n",
    "        'temporal_weight': 1.0,\n",
    "        'event_type_weight': event_type_weights['Violence against civilians'],\n",
    "        'severity_weight': 1.0 * event_type_weights['Violence against civilians'],\n",
    "        'month': 1,\n",
    "        'day_of_week': 0,\n",
    "        'month_sin': np.sin(2 * np.pi * 1 / 12),\n",
    "        'month_cos': np.cos(2 * np.pi * 1 / 12),\n",
    "        'day_of_week_sin': np.sin(2 * np.pi * 0 / 7),\n",
    "        'day_of_week_cos': np.cos(2 * np.pi * 0 / 7)\n",
    "    })\n",
    "    df = pd.concat([df, synthetic], ignore_index=True)\n",
    "    print(\"Added 300 synthetic events for Tunis\")\n",
    "    print(\"New shape:\", df.shape)\n"
   ]
  },
  {
   "cell_type": "code",
   "execution_count": 57,
   "id": "d4c82feb",
   "metadata": {},
   "outputs": [
    {
     "name": "stdout",
     "output_type": "stream",
     "text": [
      "Coordinate ranges - Latitude: [30.2500, 37.2744]\n",
      "Coordinate ranges - Longitude: [7.6557, 11.5538]\n"
     ]
    }
   ],
   "source": [
    "\n",
    "# Extract features\n",
    "X = df[['latitude', 'longitude']].values\n",
    "print(\"Coordinate ranges - Latitude: [{:.4f}, {:.4f}]\".format(df['latitude'].min(), df['latitude'].max()))\n",
    "print(\"Coordinate ranges - Longitude: [{:.4f}, {:.4f}]\".format(df['longitude'].min(), df['longitude'].max()))\n"
   ]
  },
  {
   "cell_type": "code",
   "execution_count": 58,
   "id": "aa25639e",
   "metadata": {},
   "outputs": [
    {
     "name": "stdout",
     "output_type": "stream",
     "text": [
      "Scaled data shape: (2620, 2)\n"
     ]
    }
   ],
   "source": [
    "\n",
    "# Standardize features\n",
    "scaler = StandardScaler()\n",
    "X_scaled = scaler.fit_transform(X)\n",
    "print(\"Scaled data shape:\", X_scaled.shape)\n"
   ]
  },
  {
   "cell_type": "code",
   "execution_count": 59,
   "id": "17e30e3f",
   "metadata": {},
   "outputs": [
    {
     "name": "stdout",
     "output_type": "stream",
     "text": [
      "Estimated eps from k-distance plot: 0.1331\n"
     ]
    },
    {
     "data": {
      "image/png": "[encoded data removed]",
      "text/plain": [
       "<Figure size 1000x600 with 1 Axes>"
      ]
     },
     "metadata": {},
     "output_type": "display_data"
    }
   ],
   "source": [
    "\n",
    "# Plot k-distance to estimate eps\n",
    "neigh = NearestNeighbors(n_neighbors=5)\n",
    "neigh.fit(X_scaled)\n",
    "distances, _ = neigh.kneighbors(X_scaled)\n",
    "distances = np.sort(distances[:, 4])\n",
    "eps_estimate = np.percentile(distances, 95)\n",
    "print(f\"Estimated eps from k-distance plot: {eps_estimate:.4f}\")\n",
    "plt.figure(figsize=(10, 6))\n",
    "plt.plot(distances)\n",
    "plt.xlabel('Points')\n",
    "plt.ylabel('5th Nearest Distance')\n",
    "plt.title('K-Distance Plot for Eps Estimation')\n",
    "plt.axhline(y=eps_estimate, color='r', linestyle='--', label=f'eps={eps_estimate:.4f}')\n",
    "plt.legend()\n",
    "plt.show()\n"
   ]
  },
  {
   "cell_type": "code",
   "execution_count": 60,
   "id": "4e78cf91",
   "metadata": {},
   "outputs": [
    {
     "name": "stdout",
     "output_type": "stream",
     "text": [
      "Cluster counts:\n",
      " Cluster\n",
      " 0     418\n",
      " 6     226\n",
      " 7     118\n",
      "-1      99\n",
      " 2      78\n",
      "      ... \n",
      " 89      3\n",
      " 8       3\n",
      " 73      3\n",
      " 74      3\n",
      " 75      3\n",
      "Name: count, Length: 106, dtype: int64\n"
     ]
    }
   ],
   "source": [
    "\n",
    "# Step 2: Apply DBSCAN clustering\n",
    "#Retry with eps=0.15 or eps=0.05\n",
    "eps = max(0.01, min(0.1, eps_estimate))\n",
    "esp=0.05\n",
    "\n",
    "min_samples = 5 # Minimum samples for core points #retest 3 \n",
    "min_samples=3\n",
    "dbscan = DBSCAN(eps=eps, min_samples=min_samples, metric='euclidean')\n",
    "clusters = dbscan.fit_predict(X_scaled)\n",
    "df['Cluster'] = clusters\n",
    "\n",
    "# Debug clustering\n",
    "print(\"Cluster counts:\\n\", df['Cluster'].value_counts())\n",
    "noise_ratio = (df['Cluster'] == -1).mean()\n",
    "if noise_ratio > 0.5:\n",
    "    print(f\"Warning: {noise_ratio:.2%} points are noise. Increasing eps to {eps * 1.5:.4f}.\")\n",
    "    eps *= 1.5\n",
    "    dbscan = DBSCAN(eps=eps, min_samples=min_samples, metric='euclidean')\n",
    "    clusters = dbscan.fit_predict(X_scaled)\n",
    "    df['Cluster'] = clusters\n",
    "    print(\"New cluster counts:\\n\", df['Cluster'].value_counts())\n",
    "if (df['Cluster'] == -1).all():\n",
    "    print(\"Warning: All points are noise. Trying min_samples=3.\")\n",
    "    min_samples = 3\n",
    "    dbscan = DBSCAN(eps=eps, min_samples=min_samples, metric='euclidean')\n",
    "    clusters = dbscan.fit_predict(X_scaled)\n",
    "    df['Cluster'] = clusters\n",
    "    print(\"New cluster counts:\\n\", df['Cluster'].value_counts())\n"
   ]
  },
  {
   "cell_type": "code",
   "execution_count": 61,
   "id": "9bb09c16",
   "metadata": {},
   "outputs": [
    {
     "name": "stdout",
     "output_type": "stream",
     "text": [
      "Dominant event types per cluster:\n",
      " Cluster\n",
      "0        Riots\n",
      "1        Riots\n",
      "2        Riots\n",
      "3        Riots\n",
      "4        Riots\n",
      "        ...   \n",
      "100      Riots\n",
      "101      Riots\n",
      "102      Riots\n",
      "103    Battles\n",
      "104      Riots\n",
      "Name: event_type, Length: 105, dtype: category\n",
      "Categories (6, object): ['Battles', 'Explosions/Remote violence', 'Protests', 'Riots', 'Strategic developments', 'Violence against civilians']\n"
     ]
    }
   ],
   "source": [
    "\n",
    "# Compute dominant event type per cluster\n",
    "cluster_event_types = df[df['Cluster'] != -1].groupby('Cluster')['event_type'].agg(lambda x: x.mode()[0])\n",
    "print(\"Dominant event types per cluster:\\n\", cluster_event_types)\n"
   ]
  },
  {
   "cell_type": "code",
   "execution_count": 62,
   "id": "d1e90c3b",
   "metadata": {},
   "outputs": [
    {
     "name": "stdout",
     "output_type": "stream",
     "text": [
      "Cluster weights (non-noise):\n",
      " Cluster\n",
      "0      33.513085\n",
      "1       6.258026\n",
      "2      10.976629\n",
      "3       3.290630\n",
      "4       1.519792\n",
      "         ...    \n",
      "100     0.036163\n",
      "101     0.043541\n",
      "102     0.037173\n",
      "103     0.015784\n",
      "104     0.008158\n",
      "Name: severity_weight, Length: 105, dtype: float64\n",
      "Cluster fatalities (non-noise):\n",
      " Cluster\n",
      "0      142\n",
      "1        1\n",
      "2        4\n",
      "3        0\n",
      "4        0\n",
      "      ... \n",
      "100      0\n",
      "101      0\n",
      "102      0\n",
      "103      9\n",
      "104     10\n",
      "Name: fatalities, Length: 105, dtype: int32\n",
      "Risk score distribution:\n",
      " count    2620.000000\n",
      "mean        0.226246\n",
      "std         0.372167\n",
      "min         0.000000\n",
      "25%         0.003316\n",
      "50%         0.011236\n",
      "75%         0.230926\n",
      "max         1.000000\n",
      "Name: Risk_Score, dtype: float64\n"
     ]
    }
   ],
   "source": [
    "\n",
    "# Step 3: Assign risk scores\n",
    "cluster_weights = df[df['Cluster'] != -1].groupby('Cluster')['severity_weight'].sum()\n",
    "cluster_fatalities = df[df['Cluster'] != -1].groupby('Cluster')['fatalities'].sum()\n",
    "print(\"Cluster weights (non-noise):\\n\", cluster_weights)\n",
    "print(\"Cluster fatalities (non-noise):\\n\", cluster_fatalities)\n",
    "if cluster_weights.empty:\n",
    "    print(\"Warning: No clusters formed. Setting Risk_Score to 0.0.\")\n",
    "    df['Risk_Score'] = 0.0\n",
    "else:\n",
    "    df['Risk_Score'] = df['Cluster'].map(cluster_weights).fillna(0) / cluster_weights.max()\n",
    "    df['Risk_Score'] = df.apply(\n",
    "        lambda x: x['Risk_Score'] * (1 + 0.1 * cluster_fatalities.get(x['Cluster'], 0)) if x['Cluster'] != -1 else 0,\n",
    "        axis=1\n",
    "    )\n",
    "    # Ensure small clusters with severe events have minimum score\n",
    "    df['Risk_Score'] = df.apply(\n",
    "        lambda x: max(x['Risk_Score'], 0.1 * cluster_fatalities.get(x['Cluster'], 0) / cluster_fatalities.max()) if x['Cluster'] != -1 else x['Risk_Score'],\n",
    "        axis=1\n",
    "    )\n",
    "    df['Risk_Score'] = df['Risk_Score'] / df['Risk_Score'].max()\n",
    "print(\"Risk score distribution:\\n\", df['Risk_Score'].describe())\n"
   ]
  },
  {
   "cell_type": "code",
   "execution_count": 63,
   "id": "9348b484",
   "metadata": {},
   "outputs": [],
   "source": [
    "\n",
    "# Step 4: KDE heatmap\n",
    "kde = gaussian_kde([df['longitude'], df['latitude']], weights=df['severity_weight'])\n",
    "x_grid, y_grid = np.meshgrid(\n",
    "    np.linspace(df['longitude'].min(), df['longitude'].max(), 100),\n",
    "    np.linspace(df['latitude'].min(), df['latitude'].max(), 100)\n",
    ")\n",
    "z = kde([x_grid.ravel(), y_grid.ravel()]).reshape(x_grid.shape)\n",
    "z = z / z.max()  # Normalize\n"
   ]
  },
  {
   "cell_type": "code",
   "execution_count": 64,
   "id": "c7fa657e",
   "metadata": {},
   "outputs": [
    {
     "ename": "AttributeError",
     "evalue": "The geopandas.dataset has been deprecated and was removed in GeoPandas 1.0. You can get the original 'naturalearth_lowres' data from https://www.naturalearthdata.com/downloads/110m-cultural-vectors/.",
     "output_type": "error",
     "traceback": [
      "\u001b[31m---------------------------------------------------------------------------\u001b[39m",
      "\u001b[31mAttributeError\u001b[39m                            Traceback (most recent call last)",
      "\u001b[36mCell\u001b[39m\u001b[36m \u001b[39m\u001b[32mIn[64]\u001b[39m\u001b[32m, line 2\u001b[39m\n\u001b[32m      1\u001b[39m \u001b[38;5;66;03m# Visualize KDE and clusters\u001b[39;00m\n\u001b[32m----> \u001b[39m\u001b[32m2\u001b[39m world = gpd.read_file(\u001b[43mgpd\u001b[49m\u001b[43m.\u001b[49m\u001b[43mdatasets\u001b[49m\u001b[43m.\u001b[49m\u001b[43mget_path\u001b[49m\u001b[43m(\u001b[49m\u001b[33;43m'\u001b[39;49m\u001b[33;43mnaturalearth_lowres\u001b[39;49m\u001b[33;43m'\u001b[39;49m\u001b[43m)\u001b[49m)\n\u001b[32m      3\u001b[39m tunisia = world[world[\u001b[33m'\u001b[39m\u001b[33mname\u001b[39m\u001b[33m'\u001b[39m] == \u001b[33m'\u001b[39m\u001b[33mTunisia\u001b[39m\u001b[33m'\u001b[39m]\n\u001b[32m      4\u001b[39m fig, ax = plt.subplots(figsize=(\u001b[32m10\u001b[39m, \u001b[32m6\u001b[39m))\n",
      "\u001b[36mFile \u001b[39m\u001b[32mc:\\Python312\\Lib\\site-packages\\geopandas\\datasets\\__init__.py:18\u001b[39m, in \u001b[36mget_path\u001b[39m\u001b[34m(dataset)\u001b[39m\n\u001b[32m     12\u001b[39m error_msg = (\n\u001b[32m     13\u001b[39m     \u001b[33m\"\u001b[39m\u001b[33mThe geopandas.dataset has been deprecated and was removed in GeoPandas \u001b[39m\u001b[33m\"\u001b[39m\n\u001b[32m     14\u001b[39m     \u001b[33mf\u001b[39m\u001b[33m\"\u001b[39m\u001b[33m1.0. You can get the original \u001b[39m\u001b[33m'\u001b[39m\u001b[38;5;132;01m{\u001b[39;00mdataset\u001b[38;5;132;01m}\u001b[39;00m\u001b[33m'\u001b[39m\u001b[33m data from \u001b[39m\u001b[33m\"\u001b[39m\n\u001b[32m     15\u001b[39m     \u001b[33mf\u001b[39m\u001b[33m\"\u001b[39m\u001b[38;5;132;01m{\u001b[39;00mne_message\u001b[38;5;250m \u001b[39m\u001b[38;5;28;01mif\u001b[39;00m\u001b[38;5;250m \u001b[39m\u001b[33m'\u001b[39m\u001b[33mnatural\u001b[39m\u001b[33m'\u001b[39m\u001b[38;5;250m \u001b[39m\u001b[38;5;129;01min\u001b[39;00m\u001b[38;5;250m \u001b[39mdataset\u001b[38;5;250m \u001b[39m\u001b[38;5;28;01melse\u001b[39;00m\u001b[38;5;250m \u001b[39mnybb_message\u001b[38;5;132;01m}\u001b[39;00m\u001b[33m\"\u001b[39m\n\u001b[32m     16\u001b[39m )\n\u001b[32m     17\u001b[39m \u001b[38;5;28;01mif\u001b[39;00m dataset \u001b[38;5;129;01min\u001b[39;00m _prev_available:\n\u001b[32m---> \u001b[39m\u001b[32m18\u001b[39m     \u001b[38;5;28;01mraise\u001b[39;00m \u001b[38;5;167;01mAttributeError\u001b[39;00m(error_msg)\n\u001b[32m     19\u001b[39m \u001b[38;5;28;01melse\u001b[39;00m:\n\u001b[32m     20\u001b[39m     error_msg = (\n\u001b[32m     21\u001b[39m         \u001b[33m\"\u001b[39m\u001b[33mThe geopandas.dataset has been deprecated and \u001b[39m\u001b[33m\"\u001b[39m\n\u001b[32m     22\u001b[39m         \u001b[33m\"\u001b[39m\u001b[33mwas removed in GeoPandas 1.0. New sample datasets are now available \u001b[39m\u001b[33m\"\u001b[39m\n\u001b[32m     23\u001b[39m         \u001b[33m\"\u001b[39m\u001b[33min the geodatasets package (https://geodatasets.readthedocs.io/en/latest/)\u001b[39m\u001b[33m\"\u001b[39m\n\u001b[32m     24\u001b[39m     )\n",
      "\u001b[31mAttributeError\u001b[39m: The geopandas.dataset has been deprecated and was removed in GeoPandas 1.0. You can get the original 'naturalearth_lowres' data from https://www.naturalearthdata.com/downloads/110m-cultural-vectors/."
     ]
    }
   ],
   "source": [
    "\n",
    "# Visualize KDE and clusters\n",
    "world = gpd.read_file(gpd.datasets.get_path('naturalearth_lowres'))\n",
    "tunisia = world[world['name'] == 'Tunisia']\n",
    "fig, ax = plt.subplots(figsize=(10, 6))\n",
    "tunisia.plot(ax=ax, color='lightgrey')\n",
    "plt.contourf(x_grid, y_grid, z, levels=20, cmap='Reds', alpha=0.5)\n",
    "sns.scatterplot(data=df, x='longitude', y='latitude', hue='Risk_Score', size='Risk_Score', palette='Reds', ax=ax, alpha=0.7)\n",
    "plt.title('High-Risk Locations with KDE Heatmap (Tunisia ACLED Data)')\n",
    "plt.xlabel('Longitude')\n",
    "plt.ylabel('Latitude')\n",
    "plt.colorbar(label='KDE Risk Density')\n",
    "plt.show()\n"
   ]
  },
  {
   "cell_type": "code",
   "execution_count": null,
   "id": "b34fd42a",
   "metadata": {},
   "outputs": [],
   "source": [
    "\n",
    "# Step 5: Predict risk score\n",
    "def predict_risk_score(lat, lon, model, scaler, cluster_weights, cluster_fatalities, cluster_event_types, df, beta=beta):\n",
    "    X_new = np.array([[lat, lon]], dtype=np.float32)\n",
    "    X_new_scaled = scaler.transform(X_new)\n",
    "    if len(model.components_) == 0:\n",
    "        print(\"No core points in model. Increase eps/min_samples or add more data.\")\n",
    "        return (0.0, 0.0, 'None')\n",
    "    distances = np.sqrt(((X_new_scaled - model.components_)**2).sum(axis=1))\n",
    "    nearest_idx = np.argmin(distances)\n",
    "    max_distance = np.sqrt(((X_scaled - X_scaled.mean(axis=0))**2).sum(axis=1)).max()\n",
    "    normalized_distance = distances[nearest_idx] / max_distance\n",
    "    nearest_cluster = model.labels_[model.core_sample_indices_[nearest_idx]]\n",
    "    event_type = cluster_event_types.get(nearest_cluster, 'Unknown')\n",
    "    if distances[nearest_idx] <= model.eps:\n",
    "        score = cluster_weights.get(nearest_cluster, 0) / (cluster_weights.max() if not cluster_weights.empty else 1)\n",
    "        score *= (1 + 0.1 * cluster_fatalities.get(nearest_cluster, 0))\n",
    "        score /= (cluster_weights / cluster_weights.max() * (1 + 0.1 * cluster_fatalities)).max()\n",
    "        print(f\"Assigned to cluster {nearest_cluster} (type: {event_type}) with score {score:.2f}, normalized distance {normalized_distance:.2f}\")\n",
    "    else:\n",
    "        base_score = cluster_weights.get(nearest_cluster, 0) / (cluster_weights.max() if not cluster_weights.empty else 1)\n",
    "        base_score *= (1 + 0.1 * cluster_fatalities.get(nearest_cluster, 0))\n",
    "        score = base_score * np.exp(-beta * (distances[nearest_idx] - model.eps))\n",
    "        score /= (cluster_weights / cluster_weights.max() * (1 + 0.1 * cluster_fatalities)).max()\n",
    "        print(f\"Noise point near cluster {nearest_cluster} (type: {event_type}, distance {distances[nearest_idx]:.2f} > eps {model.eps}), score {score:.2f}, normalized distance {normalized_distance:.2f}\")\n",
    "    return (score, normalized_distance, event_type)\n"
   ]
  },
  {
   "cell_type": "code",
   "execution_count": 65,
   "id": "4a33778e",
   "metadata": {},
   "outputs": [
    {
     "name": "stdout",
     "output_type": "stream",
     "text": [
      "Noise point near cluster 77 (type: Riots, distance 0.10 > eps 0.1), score 0.00, normalized distance 0.02\n",
      "Risk Score for (36.8065, 11.1815): 0.00, Norm. Distance: 0.02, Nearest Cluster Type: Riots\n",
      "Assigned to cluster 26 (type: Riots) with score 0.00, normalized distance 0.00\n",
      "Risk Score for (33.8815, 10.0982): 0.00, Norm. Distance: 0.00, Nearest Cluster Type: Riots\n",
      "Assigned to cluster 2 (type: Riots) with score 0.03, normalized distance 0.00\n",
      "Risk Score for (35.6754, 10.1033): 0.03, Norm. Distance: 0.00, Nearest Cluster Type: Riots\n"
     ]
    }
   ],
   "source": [
    "\n",
    "# Example predictions\n",
    "test_points = [\n",
    "    (36.8065, 11.1815),  # Tunis\n",
    "    (33.8815, 10.0982),  # Gabes\n",
    "    (35.6754, 10.1033)   # Kairouan\n",
    "]\n",
    "for lat, lon in test_points:\n",
    "    score, norm_dist, event_type = predict_risk_score(lat, lon, dbscan, scaler, cluster_weights, cluster_fatalities, cluster_event_types, df)\n",
    "    print(f'Risk Score for ({lat}, {lon}): {score:.2f}, Norm. Distance: {norm_dist:.2f}, Nearest Cluster Type: {event_type}')\n"
   ]
  },
  {
   "cell_type": "code",
   "execution_count": 66,
   "id": "3c1ea58b",
   "metadata": {},
   "outputs": [
    {
     "data": {
      "text/plain": [
       "['scaler.pkl']"
      ]
     },
     "execution_count": 66,
     "metadata": {},
     "output_type": "execute_result"
    }
   ],
   "source": [
    "\n",
    "# Step 6: Save model\n",
    "import joblib\n",
    "joblib.dump(dbscan, 'risky_location_model.pkl')\n",
    "joblib.dump(scaler, 'scaler.pkl')"
   ]
  },
  {
   "cell_type": "code",
   "execution_count": null,
   "id": "9420ba89",
   "metadata": {},
   "outputs": [],
   "source": []
  },
  {
   "cell_type": "code",
   "execution_count": null,
   "id": "f47d72ba",
   "metadata": {},
   "outputs": [],
   "source": []
  }
 ],
 "metadata": {
  "kernelspec": {
   "display_name": "Python 3",
   "language": "python",
   "name": "python3"
  },
  "language_info": {
   "codemirror_mode": {
    "name": "ipython",
    "version": 3
   },
   "file_extension": ".py",
   "mimetype": "text/x-python",
   "name": "python",
   "nbconvert_exporter": "python",
   "pygments_lexer": "ipython3",
   "version": "3.12.4"
  }
 },
 "nbformat": 4,
 "nbformat_minor": 5
}
