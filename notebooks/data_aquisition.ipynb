{
 "cells": [
  {
   "cell_type": "markdown",
   "id": "e7b88bdb",
   "metadata": {},
   "source": [
    "NYC Crime Data"
   ]
  },
  {
   "cell_type": "code",
   "execution_count": null,
   "id": "dfaacb87",
   "metadata": {
    "vscode": {
     "languageId": "plaintext"
    }
   },
   "outputs": [],
   "source": [
    "import pandas as pd\n",
    "url = \"https://data.cityofnewyork.us/api/views/qgea-i56i/rows.csv?accessType=DOWNLOAD\"\n",
    "crime_data = pd.read_csv(url)\n",
    "crime_data.to_parquet(\"./data/raw/spatial/nyc_crime.parquet\")  # Format optimisé"
   ]
  },
  {
   "cell_type": "markdown",
   "id": "1f55fe23",
   "metadata": {},
   "source": [
    "OSM data"
   ]
  },
  {
   "cell_type": "code",
   "execution_count": null,
   "id": "46a90ac8",
   "metadata": {
    "vscode": {
     "languageId": "plaintext"
    }
   },
   "outputs": [],
   "source": [
    "import osmnx as ox\n",
    "city = ox.geocode_to_gdf(\"New York, USA\")\n",
    "city.to_file(\"./data/raw/spatial/nyc_map.gpkg\", driver=\"GPKG\")"
   ]
  },
  {
   "cell_type": "markdown",
   "id": "a843fae2",
   "metadata": {},
   "source": [
    "cleaning"
   ]
  },
  {
   "cell_type": "code",
   "execution_count": null,
   "id": "e2b63fee",
   "metadata": {
    "vscode": {
     "languageId": "plaintext"
    }
   },
   "outputs": [],
   "source": [
    "# Scripts/preprocess_spatial.py\n",
    "import geopandas as gpd\n",
    "\n",
    "# 1. Chargement\n",
    "crime = pd.read_parquet(\"./data/raw/spatial/nyc_crime.parquet\")\n",
    "nyc_map = gpd.read_file(\"./data/raw/spatial/nyc_map.gpkg\")\n",
    "\n",
    "# 2. Filtrage des colonnes essentielles\n",
    "crime_clean = crime[[\"CMPLNT_FR_DT\", \"CMPLNT_FR_TM\", \"Latitude\", \"Longitude\", \"OFNS_DESC\"]]\n",
    "\n",
    "# 3. Conversion datetime\n",
    "crime_clean[\"datetime\"] = pd.to_datetime(crime_clean[\"CMPLNT_FR_DT\"] + \" \" + crime_clean[\"CMPLNT_FR_TM\"])\n",
    "\n",
    "# 4. Géocodage inverse (lier aux zones OSM)\n",
    "gdf = gpd.GeoDataFrame(\n",
    "    crime_clean,\n",
    "    geometry=gpd.points_from_xy(crime_clean.Longitude, crime_clean.Latitude)\n",
    ")\n",
    "gdf = gdf.sjoin(nyc_map, how=\"left\")  # Jointure spatiale\n",
    "\n",
    "# 5. Export final\n",
    "gdf.to_file(\"./data/processed/spatial_features.gpkg\")"
   ]
  },
  {
   "cell_type": "markdown",
   "id": "db4db55b",
   "metadata": {},
   "source": [
    "exploration"
   ]
  },
  {
   "cell_type": "code",
   "execution_count": null,
   "id": "7c6ac4e5",
   "metadata": {
    "vscode": {
     "languageId": "plaintext"
    }
   },
   "outputs": [],
   "source": [
    "# 1. Heatmap temporel\n",
    "crime_clean.groupby(crime_clean[\"datetime\"].dt.hour).size().plot(kind=\"bar\")\n",
    "\n",
    "# 2. Cartographie des hotspots\n",
    "import folium\n",
    "from folium.plugins import HeatMap\n",
    "\n",
    "nyc_coords = [40.7128, -74.0060]\n",
    "m = folium.Map(location=nyc_coords, zoom_start=11)\n",
    "HeatMap(data=crime_clean[[\"Latitude\", \"Longitude\"]].values).add_to(m)\n",
    "m.save(\"hotspots.html\")"
   ]
  }
 ],
 "metadata": {
  "language_info": {
   "name": "python"
  }
 },
 "nbformat": 4,
 "nbformat_minor": 5
}
