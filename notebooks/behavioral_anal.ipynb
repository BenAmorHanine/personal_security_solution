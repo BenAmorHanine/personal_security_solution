{
 "cells": [
  {
   "cell_type": "code",
   "execution_count": 6,
   "id": "86915639",
   "metadata": {},
   "outputs": [
    {
     "name": "stdout",
     "output_type": "stream",
     "text": [
      "Collecting pymongo\n",
      "  Using cached pymongo-4.13.2-cp312-cp312-win_amd64.whl.metadata (22 kB)\n",
      "Collecting dnspython<3.0.0,>=1.16.0 (from pymongo)\n",
      "  Using cached dnspython-2.7.0-py3-none-any.whl.metadata (5.8 kB)\n",
      "Using cached pymongo-4.13.2-cp312-cp312-win_amd64.whl (903 kB)\n",
      "Using cached dnspython-2.7.0-py3-none-any.whl (313 kB)\n",
      "Installing collected packages: dnspython, pymongo\n",
      "Successfully installed dnspython-2.7.0 pymongo-4.13.2\n"
     ]
    },
    {
     "name": "stderr",
     "output_type": "stream",
     "text": [
      "WARNING: Ignoring invalid distribution ~ensorboard (C:\\Python312\\Lib\\site-packages)\n",
      "WARNING: Ignoring invalid distribution ~ip (C:\\Python312\\Lib\\site-packages)\n",
      "WARNING: Ignoring invalid distribution ~ensorboard (C:\\Python312\\Lib\\site-packages)\n",
      "WARNING: Ignoring invalid distribution ~ip (C:\\Python312\\Lib\\site-packages)\n",
      "WARNING: Ignoring invalid distribution ~ensorboard (C:\\Python312\\Lib\\site-packages)\n",
      "WARNING: Ignoring invalid distribution ~ip (C:\\Python312\\Lib\\site-packages)\n",
      "\n",
      "[notice] A new release of pip is available: 25.0.1 -> 25.1.1\n",
      "[notice] To update, run: python.exe -m pip install --upgrade pip\n"
     ]
    }
   ],
   "source": [
    "# Cell 0: Install dependencies\n",
    "!pip install pymongo\n"
   ]
  },
  {
   "cell_type": "code",
   "execution_count": 1,
   "id": "641e0e78",
   "metadata": {},
   "outputs": [
    {
     "name": "stdout",
     "output_type": "stream",
     "text": [
      "Collection exists or error: collection user_locations_ts already exists\n"
     ]
    }
   ],
   "source": [
    "# Cell 1: Imports and setup\n",
    "import pandas as pd\n",
    "import numpy as np\n",
    "from pymongo import MongoClient\n",
    "import sys\n",
    "import os\n",
    "sys.path.append(os.path.abspath(\"..\"))  # Go up one level to root project folder\n",
    "\n",
    "\n",
    "from behavioral_alerts.core.utils import *\n",
    "from behavioral_alerts.core.threshold_adjustment import *\n",
    "from behavioral_alerts.core.incident_prediction import *\n",
    "from behavioral_alerts.core.profiling import *\n",
    "\n",
    "\n",
    "# Connect to MongoDB and collections\n",
    "client = MongoClient('mongodb://localhost:27017/')\n",
    "db = client['hydatis']   # or your DB_NAME\n",
    "users_collection = setup_users_collection()\n",
    "ts_collection = setup_timeseries_collection()\n",
    "\n",
    "# Set user_id for testing\n",
    "test_user = 'user1'\n"
   ]
  },
  {
   "cell_type": "code",
   "execution_count": 2,
   "id": "597ee942",
   "metadata": {},
   "outputs": [
    {
     "name": "stdout",
     "output_type": "stream",
     "text": [
      "[✓] Saved threshold model for user1 to MongoDB\n",
      "[✓] Saved threshold model locally for user1\n",
      "Predicted dynamic threshold: 0.049999999999999906\n"
     ]
    }
   ],
   "source": [
    "# Cell 2: Test Threshold Model\n",
    "\n",
    "# Prepare data\n",
    "thresh_features, thresh_target = prepare_threshold_data(ts_collection, test_user)\n",
    "\n",
    "if thresh_features is None:\n",
    "    print(f\"Insufficient data for threshold model for {test_user}\")\n",
    "else:\n",
    "    # Train model\n",
    "    thresh_model = train_threshold_model(thresh_features, thresh_target)\n",
    "    # Save locally and to DB\n",
    "    save_threshold_model(\n",
    "        test_user,\n",
    "        thresh_model,\n",
    "        save_to_mongo=True,\n",
    "        users_collection=users_collection,\n",
    "        save_local=True\n",
    "    )\n",
    "    # Load back from local and from DB\n",
    "    local_thresh_model = load_threshold_model(test_user)\n",
    "    db_thresh_doc = users_collection.find_one({\"user_id\": test_user})\n",
    "    db_thresh_blob = db_thresh_doc.get('threshold_model', {}).get('model')\n",
    "    # Predict threshold on the same features\n",
    "    predicted = predict_threshold(thresh_model, thresh_features[0])\n",
    "    print(\"Predicted dynamic threshold:\", predicted)\n"
   ]
  },
  {
   "cell_type": "code",
   "execution_count": null,
   "id": "382deb4e",
   "metadata": {},
   "outputs": [
    {
     "name": "stdout",
     "output_type": "stream",
     "text": [
      "Current working directory: e:\\Solution_securite_perso\\notebooks\n",
      "Model: XGBClassifier(base_score=None, booster=None, callbacks=None,\n",
      "              colsample_bylevel=None, colsample_bynode=None,\n",
      "              colsample_bytree=None, device=None, early_stopping_rounds=None,\n",
      "              enable_categorical=False, eval_metric='logloss',\n",
      "              feature_types=None, gamma=None, grow_policy=None,\n",
      "              importance_type=None, interaction_constraints=None,\n",
      "              learning_rate=None, max_bin=None, max_cat_threshold=None,\n",
      "              max_cat_to_onehot=None, max_delta_step=None, max_depth=None,\n",
      "              max_leaves=None, min_child_weight=None, missing=nan,\n",
      "              monotone_constraints=None, multi_strategy=None, n_estimators=None,\n",
      "              n_jobs=None, num_parallel_tree=None, random_state=42, ...)\n",
      "Scaler: StandardScaler()\n",
      "Incident probability (local model): 0.10\n",
      "Incident probability (DB model): 0.10\n"
     ]
    },
    {
     "name": "stderr",
     "output_type": "stream",
     "text": [
      "c:\\Python312\\Lib\\site-packages\\sklearn\\base.py:376: InconsistentVersionWarning: Trying to unpickle estimator StandardScaler from version 1.7.0 when using version 1.5.2. This might lead to breaking code or invalid results. Use at your own risk. For more info please refer to:\n",
      "https://scikit-learn.org/stable/model_persistence.html#security-maintainability-limitations\n",
      "  warnings.warn(\n",
      "c:\\Python312\\Lib\\site-packages\\sklearn\\base.py:493: UserWarning: X does not have valid feature names, but StandardScaler was fitted with feature names\n",
      "  warnings.warn(\n",
      "c:\\Python312\\Lib\\site-packages\\sklearn\\base.py:493: UserWarning: X does not have valid feature names, but StandardScaler was fitted with feature names\n",
      "  warnings.warn(\n"
     ]
    }
   ],
   "source": [
    "# Cell 3: Test Incident Model\n",
    "\n",
    "import os\n",
    "import joblib\n",
    "import sys\n",
    "import os\n",
    "sys.path.append(os.path.abspath(\"..\"))  # Go up one level to root project folder\n",
    "\n",
    "print(\"Current working directory:\", os.getcwd())\n",
    "\n",
    "import os\n",
    "import joblib\n",
    "\n",
    "def load_incident_model(user_id):\n",
    "    model_path = os.path.join(\"..\", \"behavioral_alerts\", \"models\", user_id, f\"{user_id}_xgboost_incident_pred.pkl\")\n",
    "    scaler_path = os.path.join(\"..\", \"behavioral_alerts\", \"models\", user_id, f\"{user_id}_xgboost_incident_pred_scaler.pkl\")\n",
    "    try:\n",
    "        model = joblib.load(model_path)\n",
    "        scaler = joblib.load(scaler_path)\n",
    "        return model, scaler\n",
    "    except FileNotFoundError:\n",
    "        print(f\"[✗] Could not find model or scaler at:\\n{model_path}\\n{scaler_path}\")\n",
    "        return None, None\n",
    "\n",
    "\n",
    "model, scaler = load_incident_model(\"user1\")\n",
    "print(\"Model:\", model)\n",
    "print(\"Scaler:\", scaler)\n",
    "\n",
    "\n",
    "loaded_db_model, loaded_db_scaler = load_incident_model_from_db(test_user, users_collection)\n",
    "    # Predict incident probability for a sample anomaly\n",
    "sample_loc_score = 0.8\n",
    "sample_time_score = 0.7\n",
    "prob_local = predict_incident(model, scaler, sample_loc_score, sample_time_score)\n",
    "prob_db = predict_incident(loaded_db_model, loaded_db_scaler, sample_loc_score, sample_time_score)\n",
    "print(f\"Incident probability (local model): {prob_local:.2f}\")\n",
    "print(f\"Incident probability (DB model): {prob_db:.2f}\")\n",
    "\n"
   ]
  },
  {
   "cell_type": "code",
   "execution_count": 15,
   "id": "2cc2bf80",
   "metadata": {},
   "outputs": [
    {
     "name": "stdout",
     "output_type": "stream",
     "text": [
      "\n",
      "Testing with insufficient data for user: new_user\n",
      "Threshold preparation result: None\n",
      "Incident preparation result: None\n"
     ]
    }
   ],
   "source": [
    "# Cell 4: Edge Cases Testing\n",
    "\n",
    "# Test with insufficient data user\n",
    "dummy_user = 'new_user'\n",
    "print(\"\\nTesting with insufficient data for user:\", dummy_user)\n",
    "\n",
    "# Threshold\n",
    "dummy_thresh, _ = prepare_threshold_data(ts_collection, dummy_user)\n",
    "print(\"Threshold preparation result:\", dummy_thresh)\n",
    "\n",
    "# Incident\n",
    "dummy_inc_feat, _ = prepare_incident_data(users_collection, dummy_user)\n",
    "print(\"Incident preparation result:\", dummy_inc_feat)\n"
   ]
  },
  {
   "cell_type": "markdown",
   "id": "5ee81946",
   "metadata": {},
   "source": [
    "system gracefully handles edge cases when a user has insufficient or no data.\n",
    "\n",
    "=> we can use this behavior to skip training/scoring for new users until data is available:\n",
    "if thresh_features is None:\n",
    "    print(f\"User {user_id} has no enough behavioral history yet. Skipping threshold training.\")\n",
    "else:\n",
    "    # train/save model\n",
    "\n"
   ]
  },
  {
   "cell_type": "code",
   "execution_count": null,
   "id": "27df1307",
   "metadata": {},
   "outputs": [],
   "source": []
  }
 ],
 "metadata": {
  "kernelspec": {
   "display_name": "Python 3",
   "language": "python",
   "name": "python3"
  },
  "language_info": {
   "codemirror_mode": {
    "name": "ipython",
    "version": 3
   },
   "file_extension": ".py",
   "mimetype": "text/x-python",
   "name": "python",
   "nbconvert_exporter": "python",
   "pygments_lexer": "ipython3",
   "version": "3.12.4"
  }
 },
 "nbformat": 4,
 "nbformat_minor": 5
}
