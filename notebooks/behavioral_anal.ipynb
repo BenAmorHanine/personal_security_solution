{
 "cells": [
  {
   "cell_type": "code",
   "execution_count": 1,
   "id": "86915639",
   "metadata": {},
   "outputs": [
    {
     "name": "stdout",
     "output_type": "stream",
     "text": [
      "Requirement already satisfied: pymongo in c:\\python312\\lib\\site-packages (4.13.2)\n",
      "Requirement already satisfied: dnspython<3.0.0,>=1.16.0 in c:\\python312\\lib\\site-packages (from pymongo) (2.7.0)\n"
     ]
    },
    {
     "name": "stderr",
     "output_type": "stream",
     "text": [
      "WARNING: Ignoring invalid distribution ~ensorboard (C:\\Python312\\Lib\\site-packages)\n",
      "WARNING: Ignoring invalid distribution ~ip (C:\\Python312\\Lib\\site-packages)\n",
      "WARNING: Ignoring invalid distribution ~ensorboard (C:\\Python312\\Lib\\site-packages)\n",
      "WARNING: Ignoring invalid distribution ~ip (C:\\Python312\\Lib\\site-packages)\n",
      "WARNING: Ignoring invalid distribution ~ensorboard (C:\\Python312\\Lib\\site-packages)\n",
      "WARNING: Ignoring invalid distribution ~ip (C:\\Python312\\Lib\\site-packages)\n",
      "\n",
      "[notice] A new release of pip is available: 25.0.1 -> 25.1.1\n",
      "[notice] To update, run: python.exe -m pip install --upgrade pip\n"
     ]
    }
   ],
   "source": [
    "# Cell 0: Install dependencies\n",
    "!pip install pymongo\n"
   ]
  },
  {
   "cell_type": "code",
   "execution_count": 2,
   "id": "641e0e78",
   "metadata": {},
   "outputs": [
    {
     "name": "stdout",
     "output_type": "stream",
     "text": [
      "Collection exists or error: collection user_locations_ts already exists\n"
     ]
    }
   ],
   "source": [
    "# Cell 1: Imports and setup\n",
    "import pandas as pd\n",
    "import numpy as np\n",
    "from pymongo import MongoClient\n",
    "import sys\n",
    "import os\n",
    "sys.path.append(os.path.abspath(\"..\"))  # Go up one level to root project folder\n",
    "\n",
    "\n",
    "from behavioral_alerts.core.utils import *\n",
    "from behavioral_alerts.core.threshold_adjustment import *\n",
    "from behavioral_alerts.core.incident_prediction import *\n",
    "from behavioral_alerts.core.profiling import *\n",
    "from behavioral_alerts.core.retrain_controller import retrain_user_profile\n",
    "\n",
    "\"\"\"\n",
    "\n",
    "\"\"\"\n",
    "\n",
    "# Connect to MongoDB and collections\n",
    "client = MongoClient('mongodb://localhost:27017/')\n",
    "db = client['hydatis']   # or your DB_NAME\n",
    "users_collection = setup_users_collection()\n",
    "ts_collection = setup_timeseries_collection()\n",
    "\n",
    "# Set user_id for testing\n",
    "test_user = 'user1'\n"
   ]
  },
  {
   "cell_type": "code",
   "execution_count": 3,
   "id": "c999081b",
   "metadata": {},
   "outputs": [
    {
     "name": "stdout",
     "output_type": "stream",
     "text": [
      "✅ Retraining behavioral profile for user1\n",
      "[✓] Saved ML model for user1 in MongoDB\n",
      "[✓] Saved model locally for user1\n",
      "[✓] Cached profile in DB for user1 at 2025-07-11 09:31:16 CET\n",
      "[✓] Saved threshold model for user1 to MongoDB\n",
      "[✓] Saved threshold model locally for user1\n",
      "✅ Threshold model updated for user1\n"
     ]
    }
   ],
   "source": [
    "# Before training/predicting anything\n",
    "retrain_user_profile(test_user, ts_collection, users_collection)"
   ]
  },
  {
   "cell_type": "code",
   "execution_count": 4,
   "id": "597ee942",
   "metadata": {},
   "outputs": [
    {
     "name": "stdout",
     "output_type": "stream",
     "text": [
      "[✓] Saved threshold model for user1 to MongoDB\n",
      "[✓] Saved threshold model locally for user1\n",
      "Predicted dynamic threshold: 0.049999999999999906\n"
     ]
    }
   ],
   "source": [
    "# Cell 2: Test Threshold Model\n",
    "\n",
    "# Prepare data\n",
    "thresh_features, thresh_target = prepare_threshold_data(ts_collection, test_user)\n",
    "\n",
    "if thresh_features is None:\n",
    "    print(f\"Insufficient data for threshold model for {test_user}\")\n",
    "else:\n",
    "    # Train model\n",
    "    thresh_model = train_threshold_model(thresh_features, thresh_target)\n",
    "    # Save locally and to DB\n",
    "    save_threshold_model(\n",
    "        test_user,\n",
    "        thresh_model,\n",
    "        save_to_mongo=True,\n",
    "        users_collection=users_collection,\n",
    "        save_local=True\n",
    "    )\n",
    "    # Load back from local and from DB\n",
    "    local_thresh_model = load_threshold_model(test_user)\n",
    "    db_thresh_doc = users_collection.find_one({\"user_id\": test_user})\n",
    "    db_thresh_blob = db_thresh_doc.get('threshold_model', {}).get('model')\n",
    "    \n",
    "    # Predict threshold on the same features\n",
    "    predicted = predict_threshold(thresh_model, thresh_features[0])\n",
    "    print(\"Predicted dynamic threshold:\", predicted)\n"
   ]
  },
  {
   "cell_type": "code",
   "execution_count": 5,
   "id": "382deb4e",
   "metadata": {},
   "outputs": [
    {
     "name": "stdout",
     "output_type": "stream",
     "text": [
      "Current working directory: e:\\Solution_securite_perso\\notebooks\n"
     ]
    },
    {
     "name": "stderr",
     "output_type": "stream",
     "text": [
      "c:\\Python312\\Lib\\site-packages\\xgboost\\core.py:158: UserWarning: [09:31:20] WARNING: C:\\buildkite-agent\\builds\\buildkite-windows-cpu-autoscaling-group-i-0c55ff5f71b100e98-1\\xgboost\\xgboost-ci-windows\\src\\data\\../common/error_msg.h:80: If you are loading a serialized model (like pickle in Python, RDS in R) or\n",
      "configuration generated by an older version of XGBoost, please export the model by calling\n",
      "`Booster.save_model` from that version first, then load it back in current version. See:\n",
      "\n",
      "    https://xgboost.readthedocs.io/en/stable/tutorials/saving_model.html\n",
      "\n",
      "for more details about differences between saving model and serializing.\n",
      "\n",
      "  warnings.warn(smsg, UserWarning)\n",
      "c:\\Python312\\Lib\\site-packages\\sklearn\\base.py:376: InconsistentVersionWarning: Trying to unpickle estimator StandardScaler from version 1.7.0 when using version 1.5.2. This might lead to breaking code or invalid results. Use at your own risk. For more info please refer to:\n",
      "https://scikit-learn.org/stable/model_persistence.html#security-maintainability-limitations\n",
      "  warnings.warn(\n"
     ]
    },
    {
     "name": "stdout",
     "output_type": "stream",
     "text": [
      "Model: XGBClassifier(base_score=None, booster=None, callbacks=None,\n",
      "              colsample_bylevel=None, colsample_bynode=None,\n",
      "              colsample_bytree=None, device=None, early_stopping_rounds=None,\n",
      "              enable_categorical=False, eval_metric='logloss',\n",
      "              feature_types=None, gamma=None, grow_policy=None,\n",
      "              importance_type=None, interaction_constraints=None,\n",
      "              learning_rate=None, max_bin=None, max_cat_threshold=None,\n",
      "              max_cat_to_onehot=None, max_delta_step=None, max_depth=None,\n",
      "              max_leaves=None, min_child_weight=None, missing=nan,\n",
      "              monotone_constraints=None, multi_strategy=None, n_estimators=None,\n",
      "              n_jobs=None, num_parallel_tree=None, random_state=42, ...)\n",
      "Scaler: StandardScaler()\n",
      "✅ Incident probability (local model): 0.10\n",
      "✅ Incident probability (DB model): 0.10\n"
     ]
    }
   ],
   "source": [
    "# Cell 3: Test Incident Model\n",
    "\n",
    "import os\n",
    "import joblib\n",
    "import sys\n",
    "import os\n",
    "sys.path.append(os.path.abspath(\"..\"))  # Go up one level to root project folder\n",
    "\n",
    "print(\"Current working directory:\", os.getcwd())\n",
    "\n",
    "import os\n",
    "import joblib\n",
    "\n",
    "def load_incident_model(user_id):\n",
    "    model_path = os.path.join(\"..\", \"behavioral_alerts\", \"models\", user_id, f\"{user_id}_xgboost_incident_pred.pkl\")\n",
    "    scaler_path = os.path.join(\"..\", \"behavioral_alerts\", \"models\", user_id, f\"{user_id}_xgboost_incident_pred_scaler.pkl\")\n",
    "    try:\n",
    "        model = joblib.load(model_path)\n",
    "        scaler = joblib.load(scaler_path)\n",
    "        return model, scaler\n",
    "    except FileNotFoundError:\n",
    "        print(f\"[✗] Could not find model or scaler at:\\n{model_path}\\n{scaler_path}\")\n",
    "        return None, None\n",
    "\n",
    "\n",
    "incident_model, scaler = load_incident_model(\"user1\")\n",
    "print(\"Model:\", incident_model)\n",
    "print(\"Scaler:\", scaler)\n",
    "\n",
    "\n",
    "loaded_db_model, loaded_db_scaler = load_incident_model_from_db(test_user, users_collection)\n",
    "    # Predict incident probability for a sample anomaly\n",
    "sample_loc_score = 0.8\n",
    "sample_time_score = 0.7\n",
    "prob_local = predict_incident(incident_model, scaler, sample_loc_score, sample_time_score)\n",
    "prob_db = predict_incident(loaded_db_model, loaded_db_scaler, sample_loc_score, sample_time_score)\n",
    "\n",
    "if incident_model and scaler:\n",
    "    prob_local = predict_incident(incident_model, scaler, sample_loc_score, sample_time_score)\n",
    "    print(f\"✅ Incident probability (local model): {prob_local:.2f}\")\n",
    "if loaded_db_model and loaded_db_scaler:\n",
    "    prob_db = predict_incident(loaded_db_model, loaded_db_scaler, sample_loc_score, sample_time_score)\n",
    "    print(f\"✅ Incident probability (DB model): {prob_db:.2f}\")\n",
    "    \n"
   ]
  },
  {
   "cell_type": "code",
   "execution_count": 6,
   "id": "2cc2bf80",
   "metadata": {},
   "outputs": [
    {
     "name": "stdout",
     "output_type": "stream",
     "text": [
      "\n",
      "Testing with insufficient data for user: new_user\n",
      "Threshold preparation result: None\n",
      "Incident preparation result: None\n"
     ]
    }
   ],
   "source": [
    "# Cell 4: Edge Cases Testing\n",
    "\n",
    "# Test with insufficient data user\n",
    "dummy_user = 'new_user'\n",
    "print(\"\\nTesting with insufficient data for user:\", dummy_user)\n",
    "\n",
    "# Threshold\n",
    "dummy_thresh, _ = prepare_threshold_data(ts_collection, dummy_user)\n",
    "print(\"Threshold preparation result:\", dummy_thresh)\n",
    "\n",
    "# Incident\n",
    "dummy_inc_feat, _ = prepare_incident_data(users_collection, dummy_user)\n",
    "print(\"Incident preparation result:\", dummy_inc_feat)\n"
   ]
  },
  {
   "cell_type": "markdown",
   "id": "5ee81946",
   "metadata": {},
   "source": [
    "system gracefully handles edge cases when a user has insufficient or no data.\n",
    "\n",
    "=> we can use this behavior to skip training/scoring for new users until data is available:\n",
    "if thresh_features is None:\n",
    "    print(f\"User {user_id} has no enough behavioral history yet. Skipping threshold training.\")\n",
    "else:\n",
    "    # train/save model\n",
    "\n"
   ]
  },
  {
   "cell_type": "code",
   "execution_count": 7,
   "id": "27df1307",
   "metadata": {},
   "outputs": [
    {
     "name": "stdout",
     "output_type": "stream",
     "text": [
      "Probability: 0.10366619\n",
      "Threshold: 0.049999999999999906\n",
      "Anomaly? True\n"
     ]
    }
   ],
   "source": [
    "\n",
    "import sys\n",
    "import os\n",
    "sys.path.append(os.path.abspath(\"../behavioral_alerts/core\"))\n",
    "from behavioral_alerts.core.scoring import evaluate_user_behavior\n",
    "\n",
    "result = evaluate_user_behavior(\n",
    "    user_id=test_user,\n",
    "    location_score=0.7,\n",
    "    time_score=0.6,\n",
    "    ts_collection=ts_collection,\n",
    "    incident_model=incident_model,\n",
    "    scaler=scaler,\n",
    "    threshold_model=thresh_model\n",
    ")\n",
    "if \"error\" in result:\n",
    "    print(result[\"error\"])\n",
    "else:\n",
    "    print(\"Probability:\", result[\"incident_probability\"])\n",
    "    print(\"Threshold:\", result[\"dynamic_threshold\"])\n",
    "    print(\"Anomaly?\", result[\"anomaly\"])\n",
    "\n"
   ]
  },
  {
   "cell_type": "code",
   "execution_count": null,
   "id": "56346f09",
   "metadata": {},
   "outputs": [],
   "source": []
  }
 ],
 "metadata": {
  "kernelspec": {
   "display_name": "Python 3",
   "language": "python",
   "name": "python3"
  },
  "language_info": {
   "codemirror_mode": {
    "name": "ipython",
    "version": 3
   },
   "file_extension": ".py",
   "mimetype": "text/x-python",
   "name": "python",
   "nbconvert_exporter": "python",
   "pygments_lexer": "ipython3",
   "version": "3.12.4"
  }
 },
 "nbformat": 4,
 "nbformat_minor": 5
}
